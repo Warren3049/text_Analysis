{
  "cells": [
    {
      "cell_type": "markdown",
      "metadata": {
        "id": "8w_tpqGaAyVO"
      },
      "source": [
        "## <b>Chapter 5.의미 연결망 분석(Semantic Network Analysis)</b>"
      ]
    },
    {
      "cell_type": "markdown",
      "metadata": {
        "id": "3vwuLxVfMRiB"
      },
      "source": [
        "- 사회 연결망 분석(Social Network Analysis)은 분석 대상 및 분석 대상들간의 관계를 연결망 구조로 표현하고 이를 계량적으로 제시하는 분석 기법이다,\n",
        "- 사회 연결망 분석은 사람, 장소, 물품 등의 객체 간의 관계를 분석하는데 효과적이며 주로 친구 관계, 전력 공급 등을 분석하는데 사용한다.\n",
        "- 사회 연결망 분석 기법을 텍스트 내 단어의 관계에 적용한 것이 바로 의미 연결망 분석((Semantic Network Analysis)이다.\n",
        "- 의미 연결망 분석에서는 일정한 범위 내에서 어휘가 동시에 등장하면 서로 연결된 것으로 간주, 이 연결 관계들을 분석한다."
      ]
    },
    {
      "cell_type": "markdown",
      "metadata": {
        "id": "M29i6PFkWzDc"
      },
      "source": [
        "### 1. n-gram 추출"
      ]
    },
    {
      "cell_type": "markdown",
      "metadata": {},
      "source": [
        "- n-gram은 n개의 어절이나 음절을 연쇄적으로 분류해 그 빈도를 분석한다.\n",
        "- 앞 뒤 어휘를 파악하여 관계를 생성하기 위해 n-gram 생성을 한다."
      ]
    },
    {
      "cell_type": "markdown",
      "metadata": {},
      "source": [
        "##### ① 데이터 입력"
      ]
    },
    {
      "cell_type": "code",
      "execution_count": 2,
      "metadata": {},
      "outputs": [],
      "source": [
        "sentence = \"I love data science and deep learning\""
      ]
    },
    {
      "cell_type": "markdown",
      "metadata": {},
      "source": [
        "##### ② bgram"
      ]
    },
    {
      "cell_type": "code",
      "execution_count": 3,
      "metadata": {
        "id": "s4kJbCxWYmZa"
      },
      "outputs": [
        {
          "name": "stderr",
          "output_type": "stream",
          "text": [
            "[nltk_data] Downloading package punkt to\n",
            "[nltk_data]     C:\\Users\\poscouser\\AppData\\Roaming\\nltk_data...\n",
            "[nltk_data]   Package punkt is already up-to-date!\n"
          ]
        },
        {
          "data": {
            "text/plain": [
              "True"
            ]
          },
          "execution_count": 3,
          "metadata": {},
          "output_type": "execute_result"
        }
      ],
      "source": [
        "import nltk\n",
        "nltk.download(\"punkt\")"
      ]
    },
    {
      "cell_type": "code",
      "execution_count": 4,
      "metadata": {
        "id": "vCbTuM2oX6I8"
      },
      "outputs": [],
      "source": [
        "from nltk import word_tokenize, bigrams"
      ]
    },
    {
      "cell_type": "code",
      "execution_count": 5,
      "metadata": {},
      "outputs": [
        {
          "name": "stdout",
          "output_type": "stream",
          "text": [
            "[('I', 'love'), ('love', 'data'), ('data', 'science'), ('science', 'and'), ('and', 'deep'), ('deep', 'learning')]\n"
          ]
        }
      ],
      "source": [
        "tokens = word_tokenize(sentence)\n",
        "\n",
        "bgram = bigrams(tokens)\n",
        "bgram_list = [x for x in bgram]\n",
        "\n",
        "print(bgram_list)"
      ]
    },
    {
      "cell_type": "markdown",
      "metadata": {},
      "source": [
        "##### ② trigram, quadgram"
      ]
    },
    {
      "cell_type": "code",
      "execution_count": 5,
      "metadata": {
        "id": "bRoIscVjZFV9"
      },
      "outputs": [],
      "source": [
        "from nltk.util import ngrams"
      ]
    },
    {
      "cell_type": "code",
      "execution_count": 6,
      "metadata": {},
      "outputs": [
        {
          "name": "stdout",
          "output_type": "stream",
          "text": [
            "[('I', 'love', 'data'), ('love', 'data', 'science'), ('data', 'science', 'and'), ('science', 'and', 'deep'), ('and', 'deep', 'learning')]\n",
            "[('I', 'love', 'data', 'science'), ('love', 'data', 'science', 'and'), ('data', 'science', 'and', 'deep'), ('science', 'and', 'deep', 'learning')]\n"
          ]
        }
      ],
      "source": [
        "tgram = ngrams(tokens, 3)\n",
        "qgram = ngrams(tokens, 4)\n",
        "\n",
        "tgram_list = [x for x in tgram]\n",
        "qgram_list = [x for x in qgram]\n",
        "\n",
        "print(tgram_list)\n",
        "print(qgram_list)"
      ]
    },
    {
      "cell_type": "markdown",
      "metadata": {
        "id": "JkWZYBtuW1Gb"
      },
      "source": [
        "### 2. 어휘 동시 출현 빈도의 계수화"
      ]
    },
    {
      "cell_type": "markdown",
      "metadata": {
        "id": "6iMwMrupGj0I"
      },
      "source": [
        "* 동시 출현(Co-occurrence)란 두 개 이상의 어휘가 일정한 범위나 거리 내에서 함께 출현하는 것을 의미한다.\n",
        "* 단어간의 동시 출현 관계를 분석하면 문서나 문장으로부터 두 단어가 유사한 의미를 가졌는지 등의 추상화된 정보를 얻을 수 있다.\n",
        "* 동시 출현 빈도는 Window라는 지정 범위 내에서 동시 등장한 어휘를 확률 등으로 계수화 가능하다.\n",
        "* 예를 들어, 단어 뒤 잘못된 단어가 온다면, 이를 동시 출현 빈도가 높은 단어로 교정 가능, 또는 연관/관련 단처 추천 용도로도 사용 가능하다."
      ]
    },
    {
      "cell_type": "markdown",
      "metadata": {
        "id": "xdeJzfWKefM6"
      },
      "source": [
        "* 어휘 동시 출현 빈도 행렬은 하나하나 측정할 수도 있지만, 바이그램 개수를 정리하면 편리하게 만들어 볼 수 있다.\n",
        "* `nltk`에서 제공하는 `ConditionalFreqDist` 함수를 이용하면 문맥별 단어 빈도를 쉽게 측정 가능하다."
      ]
    },
    {
      "cell_type": "markdown",
      "metadata": {},
      "source": [
        "#### 1) 문맥별 단어 빈도 측정"
      ]
    },
    {
      "cell_type": "markdown",
      "metadata": {},
      "source": [
        "##### ① 데이터 입력"
      ]
    },
    {
      "cell_type": "code",
      "execution_count": 7,
      "metadata": {},
      "outputs": [],
      "source": [
        "sentences = [\"I love data science and deep learning\", 'I love Science', 'I Know this code']"
      ]
    },
    {
      "cell_type": "markdown",
      "metadata": {},
      "source": [
        "##### ② 토큰화"
      ]
    },
    {
      "cell_type": "code",
      "execution_count": 8,
      "metadata": {
        "id": "5nLFrqh0bDDu"
      },
      "outputs": [],
      "source": [
        "from nltk import ConditionalFreqDist"
      ]
    },
    {
      "cell_type": "code",
      "execution_count": 9,
      "metadata": {},
      "outputs": [
        {
          "name": "stdout",
          "output_type": "stream",
          "text": [
            "[['I', 'love', 'data', 'science', 'and', 'deep', 'learning'], ['I', 'love', 'Science'], ['I', 'Know', 'this', 'code']]\n"
          ]
        }
      ],
      "source": [
        "tokens = [word_tokenize(x) for x in sentences]\n",
        "print(tokens)"
      ]
    },
    {
      "cell_type": "markdown",
      "metadata": {},
      "source": [
        "##### ③ bigram 추출"
      ]
    },
    {
      "cell_type": "code",
      "execution_count": 10,
      "metadata": {},
      "outputs": [
        {
          "name": "stdout",
          "output_type": "stream",
          "text": [
            "[('I', 'love'), ('love', 'data'), ('data', 'science'), ('science', 'and'), ('and', 'deep'), ('deep', 'learning'), ('I', 'love'), ('love', 'Science'), ('I', 'Know'), ('Know', 'this'), ('this', 'code')]\n"
          ]
        }
      ],
      "source": [
        "bgrams = [bigrams(x) for x in tokens]\n",
        "\n",
        "token = []\n",
        "for i in bgrams:\n",
        "      token += ([x for x in i])\n",
        "print(token)"
      ]
    },
    {
      "cell_type": "markdown",
      "metadata": {},
      "source": [
        "##### ④ 빈도 측정"
      ]
    },
    {
      "cell_type": "markdown",
      "metadata": {},
      "source": [
        "- cfd 객체 생성"
      ]
    },
    {
      "cell_type": "code",
      "execution_count": 11,
      "metadata": {},
      "outputs": [
        {
          "data": {
            "text/plain": [
              "['I', 'love', 'data', 'science', 'and', 'deep', 'Know', 'this']"
            ]
          },
          "execution_count": 11,
          "metadata": {},
          "output_type": "execute_result"
        }
      ],
      "source": [
        "cfd = ConditionalFreqDist(token)\n",
        "cfd.conditions()"
      ]
    },
    {
      "cell_type": "markdown",
      "metadata": {},
      "source": [
        "- 'I'에 대한 cfd 객체 출력 : bigram에서 'I'가 들어간 샘플 갯수와 출현된 빈도수"
      ]
    },
    {
      "cell_type": "code",
      "execution_count": 12,
      "metadata": {
        "id": "j37YObgSumih"
      },
      "outputs": [
        {
          "name": "stdout",
          "output_type": "stream",
          "text": [
            "<FreqDist with 2 samples and 3 outcomes>\n"
          ]
        }
      ],
      "source": [
        "print(cfd['I'])"
      ]
    },
    {
      "cell_type": "markdown",
      "metadata": {},
      "source": [
        "- 두 단어가 동시 출현한 빈도 출력"
      ]
    },
    {
      "cell_type": "code",
      "execution_count": 13,
      "metadata": {
        "id": "1qi_TGyUbEye"
      },
      "outputs": [
        {
          "name": "stdout",
          "output_type": "stream",
          "text": [
            "2\n"
          ]
        }
      ],
      "source": [
        "print(cfd['I']['love'])"
      ]
    },
    {
      "cell_type": "markdown",
      "metadata": {},
      "source": [
        "- 'I'와 동시출현 빈도가 높은 1개 출력(단어, 횟수)"
      ]
    },
    {
      "cell_type": "code",
      "execution_count": 14,
      "metadata": {
        "id": "212HozdE76Ne"
      },
      "outputs": [
        {
          "name": "stdout",
          "output_type": "stream",
          "text": [
            "[('love', 2)]\n"
          ]
        }
      ],
      "source": [
        "print(cfd['I'].most_common(1))"
      ]
    },
    {
      "cell_type": "markdown",
      "metadata": {},
      "source": [
        "#### 2) 시각화"
      ]
    },
    {
      "cell_type": "markdown",
      "metadata": {},
      "source": [
        "##### ① 단어와 단어들간의 동시출현 빈도 매트릭스 생성"
      ]
    },
    {
      "cell_type": "code",
      "execution_count": 15,
      "metadata": {},
      "outputs": [
        {
          "data": {
            "text/plain": [
              "dict_keys(['I', 'love', 'data', 'science', 'and', 'deep', 'Know', 'this'])"
            ]
          },
          "execution_count": 15,
          "metadata": {},
          "output_type": "execute_result"
        }
      ],
      "source": [
        "cfd.keys()"
      ]
    },
    {
      "cell_type": "code",
      "execution_count": 16,
      "metadata": {
        "id": "O8W76iFvWy5i"
      },
      "outputs": [
        {
          "name": "stdout",
          "output_type": "stream",
          "text": [
            "dict_keys(['I', 'love', 'data', 'science', 'and', 'deep', 'Know', 'this'])\n",
            "[[0 2 0 0 0 0 1 0]\n",
            " [0 0 1 0 0 0 0 0]\n",
            " [0 0 0 1 0 0 0 0]\n",
            " [0 0 0 0 1 0 0 0]\n",
            " [0 0 0 0 0 1 0 0]\n",
            " [0 0 0 0 0 0 0 0]\n",
            " [0 0 0 0 0 0 0 1]\n",
            " [0 0 0 0 0 0 0 0]]\n"
          ]
        }
      ],
      "source": [
        "import numpy as np\n",
        "\n",
        "freq_matrix = []\n",
        "\n",
        "for i in cfd.keys() :\n",
        "    temp = []\n",
        "    for j in cfd.keys() :\n",
        "        temp.append(cfd[i][j])\n",
        "    freq_matrix.append(temp)\n",
        "freq_matrix = np.array(freq_matrix)\n",
        "\n",
        "print(cfd.keys())\n",
        "print(freq_matrix)"
      ]
    },
    {
      "cell_type": "markdown",
      "metadata": {
        "id": "IdfUT9Y_wXID"
      },
      "source": [
        "##### ② 해당 동시 출현 빈도 행렬을 좀 더 보기 쉽도록 데이터프레임으로 시각화"
      ]
    },
    {
      "cell_type": "code",
      "execution_count": 17,
      "metadata": {
        "id": "PpSGjtsjXnHT"
      },
      "outputs": [
        {
          "data": {
            "text/html": [
              "<style type=\"text/css\">\n",
              "#T_e4d48_row0_col0, #T_e4d48_row0_col2, #T_e4d48_row0_col3, #T_e4d48_row0_col4, #T_e4d48_row0_col5, #T_e4d48_row0_col7, #T_e4d48_row1_col0, #T_e4d48_row1_col1, #T_e4d48_row1_col3, #T_e4d48_row1_col4, #T_e4d48_row1_col5, #T_e4d48_row1_col6, #T_e4d48_row1_col7, #T_e4d48_row2_col0, #T_e4d48_row2_col1, #T_e4d48_row2_col2, #T_e4d48_row2_col4, #T_e4d48_row2_col5, #T_e4d48_row2_col6, #T_e4d48_row2_col7, #T_e4d48_row3_col0, #T_e4d48_row3_col1, #T_e4d48_row3_col2, #T_e4d48_row3_col3, #T_e4d48_row3_col5, #T_e4d48_row3_col6, #T_e4d48_row3_col7, #T_e4d48_row4_col0, #T_e4d48_row4_col1, #T_e4d48_row4_col2, #T_e4d48_row4_col3, #T_e4d48_row4_col4, #T_e4d48_row4_col6, #T_e4d48_row4_col7, #T_e4d48_row5_col0, #T_e4d48_row5_col1, #T_e4d48_row5_col2, #T_e4d48_row5_col3, #T_e4d48_row5_col4, #T_e4d48_row5_col5, #T_e4d48_row5_col6, #T_e4d48_row5_col7, #T_e4d48_row6_col0, #T_e4d48_row6_col1, #T_e4d48_row6_col2, #T_e4d48_row6_col3, #T_e4d48_row6_col4, #T_e4d48_row6_col5, #T_e4d48_row6_col6, #T_e4d48_row7_col0, #T_e4d48_row7_col1, #T_e4d48_row7_col2, #T_e4d48_row7_col3, #T_e4d48_row7_col4, #T_e4d48_row7_col5, #T_e4d48_row7_col6, #T_e4d48_row7_col7 {\n",
              "  background-color: #3b4cc0;\n",
              "  color: #f1f1f1;\n",
              "}\n",
              "#T_e4d48_row0_col1, #T_e4d48_row0_col6, #T_e4d48_row1_col2, #T_e4d48_row2_col3, #T_e4d48_row3_col4, #T_e4d48_row4_col5, #T_e4d48_row6_col7 {\n",
              "  background-color: #b40426;\n",
              "  color: #f1f1f1;\n",
              "}\n",
              "</style>\n",
              "<table id=\"T_e4d48\">\n",
              "  <thead>\n",
              "    <tr>\n",
              "      <th class=\"blank level0\" >&nbsp;</th>\n",
              "      <th id=\"T_e4d48_level0_col0\" class=\"col_heading level0 col0\" >I</th>\n",
              "      <th id=\"T_e4d48_level0_col1\" class=\"col_heading level0 col1\" >love</th>\n",
              "      <th id=\"T_e4d48_level0_col2\" class=\"col_heading level0 col2\" >data</th>\n",
              "      <th id=\"T_e4d48_level0_col3\" class=\"col_heading level0 col3\" >science</th>\n",
              "      <th id=\"T_e4d48_level0_col4\" class=\"col_heading level0 col4\" >and</th>\n",
              "      <th id=\"T_e4d48_level0_col5\" class=\"col_heading level0 col5\" >deep</th>\n",
              "      <th id=\"T_e4d48_level0_col6\" class=\"col_heading level0 col6\" >Know</th>\n",
              "      <th id=\"T_e4d48_level0_col7\" class=\"col_heading level0 col7\" >this</th>\n",
              "    </tr>\n",
              "  </thead>\n",
              "  <tbody>\n",
              "    <tr>\n",
              "      <th id=\"T_e4d48_level0_row0\" class=\"row_heading level0 row0\" >I</th>\n",
              "      <td id=\"T_e4d48_row0_col0\" class=\"data row0 col0\" >0</td>\n",
              "      <td id=\"T_e4d48_row0_col1\" class=\"data row0 col1\" >2</td>\n",
              "      <td id=\"T_e4d48_row0_col2\" class=\"data row0 col2\" >0</td>\n",
              "      <td id=\"T_e4d48_row0_col3\" class=\"data row0 col3\" >0</td>\n",
              "      <td id=\"T_e4d48_row0_col4\" class=\"data row0 col4\" >0</td>\n",
              "      <td id=\"T_e4d48_row0_col5\" class=\"data row0 col5\" >0</td>\n",
              "      <td id=\"T_e4d48_row0_col6\" class=\"data row0 col6\" >1</td>\n",
              "      <td id=\"T_e4d48_row0_col7\" class=\"data row0 col7\" >0</td>\n",
              "    </tr>\n",
              "    <tr>\n",
              "      <th id=\"T_e4d48_level0_row1\" class=\"row_heading level0 row1\" >love</th>\n",
              "      <td id=\"T_e4d48_row1_col0\" class=\"data row1 col0\" >0</td>\n",
              "      <td id=\"T_e4d48_row1_col1\" class=\"data row1 col1\" >0</td>\n",
              "      <td id=\"T_e4d48_row1_col2\" class=\"data row1 col2\" >1</td>\n",
              "      <td id=\"T_e4d48_row1_col3\" class=\"data row1 col3\" >0</td>\n",
              "      <td id=\"T_e4d48_row1_col4\" class=\"data row1 col4\" >0</td>\n",
              "      <td id=\"T_e4d48_row1_col5\" class=\"data row1 col5\" >0</td>\n",
              "      <td id=\"T_e4d48_row1_col6\" class=\"data row1 col6\" >0</td>\n",
              "      <td id=\"T_e4d48_row1_col7\" class=\"data row1 col7\" >0</td>\n",
              "    </tr>\n",
              "    <tr>\n",
              "      <th id=\"T_e4d48_level0_row2\" class=\"row_heading level0 row2\" >data</th>\n",
              "      <td id=\"T_e4d48_row2_col0\" class=\"data row2 col0\" >0</td>\n",
              "      <td id=\"T_e4d48_row2_col1\" class=\"data row2 col1\" >0</td>\n",
              "      <td id=\"T_e4d48_row2_col2\" class=\"data row2 col2\" >0</td>\n",
              "      <td id=\"T_e4d48_row2_col3\" class=\"data row2 col3\" >1</td>\n",
              "      <td id=\"T_e4d48_row2_col4\" class=\"data row2 col4\" >0</td>\n",
              "      <td id=\"T_e4d48_row2_col5\" class=\"data row2 col5\" >0</td>\n",
              "      <td id=\"T_e4d48_row2_col6\" class=\"data row2 col6\" >0</td>\n",
              "      <td id=\"T_e4d48_row2_col7\" class=\"data row2 col7\" >0</td>\n",
              "    </tr>\n",
              "    <tr>\n",
              "      <th id=\"T_e4d48_level0_row3\" class=\"row_heading level0 row3\" >science</th>\n",
              "      <td id=\"T_e4d48_row3_col0\" class=\"data row3 col0\" >0</td>\n",
              "      <td id=\"T_e4d48_row3_col1\" class=\"data row3 col1\" >0</td>\n",
              "      <td id=\"T_e4d48_row3_col2\" class=\"data row3 col2\" >0</td>\n",
              "      <td id=\"T_e4d48_row3_col3\" class=\"data row3 col3\" >0</td>\n",
              "      <td id=\"T_e4d48_row3_col4\" class=\"data row3 col4\" >1</td>\n",
              "      <td id=\"T_e4d48_row3_col5\" class=\"data row3 col5\" >0</td>\n",
              "      <td id=\"T_e4d48_row3_col6\" class=\"data row3 col6\" >0</td>\n",
              "      <td id=\"T_e4d48_row3_col7\" class=\"data row3 col7\" >0</td>\n",
              "    </tr>\n",
              "    <tr>\n",
              "      <th id=\"T_e4d48_level0_row4\" class=\"row_heading level0 row4\" >and</th>\n",
              "      <td id=\"T_e4d48_row4_col0\" class=\"data row4 col0\" >0</td>\n",
              "      <td id=\"T_e4d48_row4_col1\" class=\"data row4 col1\" >0</td>\n",
              "      <td id=\"T_e4d48_row4_col2\" class=\"data row4 col2\" >0</td>\n",
              "      <td id=\"T_e4d48_row4_col3\" class=\"data row4 col3\" >0</td>\n",
              "      <td id=\"T_e4d48_row4_col4\" class=\"data row4 col4\" >0</td>\n",
              "      <td id=\"T_e4d48_row4_col5\" class=\"data row4 col5\" >1</td>\n",
              "      <td id=\"T_e4d48_row4_col6\" class=\"data row4 col6\" >0</td>\n",
              "      <td id=\"T_e4d48_row4_col7\" class=\"data row4 col7\" >0</td>\n",
              "    </tr>\n",
              "    <tr>\n",
              "      <th id=\"T_e4d48_level0_row5\" class=\"row_heading level0 row5\" >deep</th>\n",
              "      <td id=\"T_e4d48_row5_col0\" class=\"data row5 col0\" >0</td>\n",
              "      <td id=\"T_e4d48_row5_col1\" class=\"data row5 col1\" >0</td>\n",
              "      <td id=\"T_e4d48_row5_col2\" class=\"data row5 col2\" >0</td>\n",
              "      <td id=\"T_e4d48_row5_col3\" class=\"data row5 col3\" >0</td>\n",
              "      <td id=\"T_e4d48_row5_col4\" class=\"data row5 col4\" >0</td>\n",
              "      <td id=\"T_e4d48_row5_col5\" class=\"data row5 col5\" >0</td>\n",
              "      <td id=\"T_e4d48_row5_col6\" class=\"data row5 col6\" >0</td>\n",
              "      <td id=\"T_e4d48_row5_col7\" class=\"data row5 col7\" >0</td>\n",
              "    </tr>\n",
              "    <tr>\n",
              "      <th id=\"T_e4d48_level0_row6\" class=\"row_heading level0 row6\" >Know</th>\n",
              "      <td id=\"T_e4d48_row6_col0\" class=\"data row6 col0\" >0</td>\n",
              "      <td id=\"T_e4d48_row6_col1\" class=\"data row6 col1\" >0</td>\n",
              "      <td id=\"T_e4d48_row6_col2\" class=\"data row6 col2\" >0</td>\n",
              "      <td id=\"T_e4d48_row6_col3\" class=\"data row6 col3\" >0</td>\n",
              "      <td id=\"T_e4d48_row6_col4\" class=\"data row6 col4\" >0</td>\n",
              "      <td id=\"T_e4d48_row6_col5\" class=\"data row6 col5\" >0</td>\n",
              "      <td id=\"T_e4d48_row6_col6\" class=\"data row6 col6\" >0</td>\n",
              "      <td id=\"T_e4d48_row6_col7\" class=\"data row6 col7\" >1</td>\n",
              "    </tr>\n",
              "    <tr>\n",
              "      <th id=\"T_e4d48_level0_row7\" class=\"row_heading level0 row7\" >this</th>\n",
              "      <td id=\"T_e4d48_row7_col0\" class=\"data row7 col0\" >0</td>\n",
              "      <td id=\"T_e4d48_row7_col1\" class=\"data row7 col1\" >0</td>\n",
              "      <td id=\"T_e4d48_row7_col2\" class=\"data row7 col2\" >0</td>\n",
              "      <td id=\"T_e4d48_row7_col3\" class=\"data row7 col3\" >0</td>\n",
              "      <td id=\"T_e4d48_row7_col4\" class=\"data row7 col4\" >0</td>\n",
              "      <td id=\"T_e4d48_row7_col5\" class=\"data row7 col5\" >0</td>\n",
              "      <td id=\"T_e4d48_row7_col6\" class=\"data row7 col6\" >0</td>\n",
              "      <td id=\"T_e4d48_row7_col7\" class=\"data row7 col7\" >0</td>\n",
              "    </tr>\n",
              "  </tbody>\n",
              "</table>\n"
            ],
            "text/plain": [
              "<pandas.io.formats.style.Styler at 0x22f631c0c10>"
            ]
          },
          "execution_count": 17,
          "metadata": {},
          "output_type": "execute_result"
        }
      ],
      "source": [
        "import pandas as pd\n",
        "\n",
        "df = pd.DataFrame(freq_matrix, index = cfd.keys(), columns = cfd.keys())\n",
        "df.style.background_gradient(cmap=\"coolwarm\")"
      ]
    },
    {
      "cell_type": "markdown",
      "metadata": {
        "id": "BGGjGxUrwi2b"
      },
      "source": [
        "* 동시 출현 빈도 행렬은 인접 행렬로도 간주할 수 있다.\n",
        "* `networkx` 패키지를 사용해 해당 행렬을 그래프로 시각화한다."
      ]
    },
    {
      "cell_type": "markdown",
      "metadata": {},
      "source": [
        "##### ③ `networkx` 패키지를 사용해 해당 행렬을 그래프로 생성"
      ]
    },
    {
      "cell_type": "code",
      "execution_count": 18,
      "metadata": {
        "id": "NP_fVs57wjK4"
      },
      "outputs": [
        {
          "name": "stdout",
          "output_type": "stream",
          "text": [
            "['I', 'love', 'data', 'science', 'and', 'deep', 'Know', 'this']\n",
            "[('I', 'love'), ('I', 'Know'), ('love', 'data'), ('data', 'science'), ('science', 'and'), ('and', 'deep'), ('Know', 'this')]\n"
          ]
        }
      ],
      "source": [
        "import networkx as nx\n",
        "\n",
        "G = nx.from_pandas_adjacency(df)\n",
        "\n",
        "print(G.nodes()) \n",
        "print(G.edges())"
      ]
    },
    {
      "cell_type": "markdown",
      "metadata": {
        "id": "VVffevvX12lg"
      },
      "source": [
        "- 각 단어가 동시 출현한 횟수(가중치)"
      ]
    },
    {
      "cell_type": "code",
      "execution_count": 19,
      "metadata": {
        "id": "5_ip9oSd2AOY"
      },
      "outputs": [
        {
          "name": "stdout",
          "output_type": "stream",
          "text": [
            "{'weight': 2}\n",
            "{'weight': 1}\n"
          ]
        }
      ],
      "source": [
        "print(G.edges()[('I', 'love')]) \n",
        "print(G.edges()[('I', 'Know')]) "
      ]
    },
    {
      "cell_type": "markdown",
      "metadata": {
        "id": "I2TNV9401ke7"
      },
      "source": [
        "##### ④ `nx.draw`를 통한 그래프 시각화"
      ]
    },
    {
      "cell_type": "code",
      "execution_count": 20,
      "metadata": {
        "id": "2bt9zZ0P1aCc"
      },
      "outputs": [
        {
          "data": {
            "image/png": "[encoded data removed]",
            "text/plain": [
              "<Figure size 432x288 with 1 Axes>"
            ]
          },
          "metadata": {},
          "output_type": "display_data"
        }
      ],
      "source": [
        "nx.draw(G, with_labels=True) "
      ]
    },
    {
      "cell_type": "markdown",
      "metadata": {},
      "source": [
        "#### 3) 동시 출현 확률 계산"
      ]
    },
    {
      "cell_type": "markdown",
      "metadata": {
        "id": "MrafXR_vaqd9"
      },
      "source": [
        "* 어휘 동시 출현 빈도를 이용하면 어휘 동시 출현 확률까지 측정 가능하다.\n",
        "* 어휘 동시 출현 확률 계산에는 `nltk`의 `ConditionalProbDist`를 이용한다."
      ]
    },
    {
      "cell_type": "markdown",
      "metadata": {},
      "source": [
        "##### ① cfd 객체 생성"
      ]
    },
    {
      "cell_type": "code",
      "execution_count": 21,
      "metadata": {
        "id": "dOfiGSVL8I38"
      },
      "outputs": [
        {
          "data": {
            "text/plain": [
              "['I', 'love', 'data', 'science', 'and', 'deep', 'Know', 'this']"
            ]
          },
          "execution_count": 21,
          "metadata": {},
          "output_type": "execute_result"
        }
      ],
      "source": [
        "from nltk.probability import ConditionalProbDist, MLEProbDist\n",
        "\n",
        "cpd = ConditionalProbDist(cfd, MLEProbDist)\n",
        "cpd.conditions()"
      ]
    },
    {
      "cell_type": "markdown",
      "metadata": {},
      "source": [
        "##### ② 확률 매트릭스 형태로 출력"
      ]
    },
    {
      "cell_type": "code",
      "execution_count": 22,
      "metadata": {
        "id": "aliwTDpm85V5"
      },
      "outputs": [
        {
          "name": "stdout",
          "output_type": "stream",
          "text": [
            "dict_keys(['I', 'love', 'data', 'science', 'and', 'deep', 'Know', 'this'])\n",
            "[[0.         0.66666667 0.         0.         0.         0.\n",
            "  0.33333333 0.        ]\n",
            " [0.         0.         0.5        0.         0.         0.\n",
            "  0.         0.        ]\n",
            " [0.         0.         0.         1.         0.         0.\n",
            "  0.         0.        ]\n",
            " [0.         0.         0.         0.         1.         0.\n",
            "  0.         0.        ]\n",
            " [0.         0.         0.         0.         0.         1.\n",
            "  0.         0.        ]\n",
            " [0.         0.         0.         0.         0.         0.\n",
            "  0.         0.        ]\n",
            " [0.         0.         0.         0.         0.         0.\n",
            "  0.         1.        ]\n",
            " [0.         0.         0.         0.         0.         0.\n",
            "  0.         0.        ]]\n"
          ]
        }
      ],
      "source": [
        "prob_matrix = []\n",
        "\n",
        "for i in cpd.keys():\n",
        "    prob_matrix.append([cpd[i].prob(j) for j in cpd.keys()])\n",
        "\n",
        "prob_matrix = np.array(prob_matrix)\n",
        "\n",
        "print(cpd.keys())\n",
        "print(prob_matrix)"
      ]
    },
    {
      "cell_type": "markdown",
      "metadata": {},
      "source": [
        "##### ③ 시인성을 높이기 위해 데이터프레임으로 변환"
      ]
    },
    {
      "cell_type": "code",
      "execution_count": 23,
      "metadata": {
        "id": "DELaFrOLQyTY"
      },
      "outputs": [
        {
          "data": {
            "text/html": [
              "<style type=\"text/css\">\n",
              "#T_1a8df_row0_col0, #T_1a8df_row0_col2, #T_1a8df_row0_col3, #T_1a8df_row0_col4, #T_1a8df_row0_col5, #T_1a8df_row0_col7, #T_1a8df_row1_col0, #T_1a8df_row1_col1, #T_1a8df_row1_col3, #T_1a8df_row1_col4, #T_1a8df_row1_col5, #T_1a8df_row1_col6, #T_1a8df_row1_col7, #T_1a8df_row2_col0, #T_1a8df_row2_col1, #T_1a8df_row2_col2, #T_1a8df_row2_col4, #T_1a8df_row2_col5, #T_1a8df_row2_col6, #T_1a8df_row2_col7, #T_1a8df_row3_col0, #T_1a8df_row3_col1, #T_1a8df_row3_col2, #T_1a8df_row3_col3, #T_1a8df_row3_col5, #T_1a8df_row3_col6, #T_1a8df_row3_col7, #T_1a8df_row4_col0, #T_1a8df_row4_col1, #T_1a8df_row4_col2, #T_1a8df_row4_col3, #T_1a8df_row4_col4, #T_1a8df_row4_col6, #T_1a8df_row4_col7, #T_1a8df_row5_col0, #T_1a8df_row5_col1, #T_1a8df_row5_col2, #T_1a8df_row5_col3, #T_1a8df_row5_col4, #T_1a8df_row5_col5, #T_1a8df_row5_col6, #T_1a8df_row5_col7, #T_1a8df_row6_col0, #T_1a8df_row6_col1, #T_1a8df_row6_col2, #T_1a8df_row6_col3, #T_1a8df_row6_col4, #T_1a8df_row6_col5, #T_1a8df_row6_col6, #T_1a8df_row7_col0, #T_1a8df_row7_col1, #T_1a8df_row7_col2, #T_1a8df_row7_col3, #T_1a8df_row7_col4, #T_1a8df_row7_col5, #T_1a8df_row7_col6, #T_1a8df_row7_col7 {\n",
              "  background-color: #3b4cc0;\n",
              "  color: #f1f1f1;\n",
              "}\n",
              "#T_1a8df_row0_col1, #T_1a8df_row0_col6, #T_1a8df_row1_col2, #T_1a8df_row2_col3, #T_1a8df_row3_col4, #T_1a8df_row4_col5, #T_1a8df_row6_col7 {\n",
              "  background-color: #b40426;\n",
              "  color: #f1f1f1;\n",
              "}\n",
              "</style>\n",
              "<table id=\"T_1a8df\">\n",
              "  <thead>\n",
              "    <tr>\n",
              "      <th class=\"blank level0\" >&nbsp;</th>\n",
              "      <th id=\"T_1a8df_level0_col0\" class=\"col_heading level0 col0\" >I</th>\n",
              "      <th id=\"T_1a8df_level0_col1\" class=\"col_heading level0 col1\" >love</th>\n",
              "      <th id=\"T_1a8df_level0_col2\" class=\"col_heading level0 col2\" >data</th>\n",
              "      <th id=\"T_1a8df_level0_col3\" class=\"col_heading level0 col3\" >science</th>\n",
              "      <th id=\"T_1a8df_level0_col4\" class=\"col_heading level0 col4\" >and</th>\n",
              "      <th id=\"T_1a8df_level0_col5\" class=\"col_heading level0 col5\" >deep</th>\n",
              "      <th id=\"T_1a8df_level0_col6\" class=\"col_heading level0 col6\" >Know</th>\n",
              "      <th id=\"T_1a8df_level0_col7\" class=\"col_heading level0 col7\" >this</th>\n",
              "    </tr>\n",
              "  </thead>\n",
              "  <tbody>\n",
              "    <tr>\n",
              "      <th id=\"T_1a8df_level0_row0\" class=\"row_heading level0 row0\" >I</th>\n",
              "      <td id=\"T_1a8df_row0_col0\" class=\"data row0 col0\" >0.000000</td>\n",
              "      <td id=\"T_1a8df_row0_col1\" class=\"data row0 col1\" >0.666667</td>\n",
              "      <td id=\"T_1a8df_row0_col2\" class=\"data row0 col2\" >0.000000</td>\n",
              "      <td id=\"T_1a8df_row0_col3\" class=\"data row0 col3\" >0.000000</td>\n",
              "      <td id=\"T_1a8df_row0_col4\" class=\"data row0 col4\" >0.000000</td>\n",
              "      <td id=\"T_1a8df_row0_col5\" class=\"data row0 col5\" >0.000000</td>\n",
              "      <td id=\"T_1a8df_row0_col6\" class=\"data row0 col6\" >0.333333</td>\n",
              "      <td id=\"T_1a8df_row0_col7\" class=\"data row0 col7\" >0.000000</td>\n",
              "    </tr>\n",
              "    <tr>\n",
              "      <th id=\"T_1a8df_level0_row1\" class=\"row_heading level0 row1\" >love</th>\n",
              "      <td id=\"T_1a8df_row1_col0\" class=\"data row1 col0\" >0.000000</td>\n",
              "      <td id=\"T_1a8df_row1_col1\" class=\"data row1 col1\" >0.000000</td>\n",
              "      <td id=\"T_1a8df_row1_col2\" class=\"data row1 col2\" >0.500000</td>\n",
              "      <td id=\"T_1a8df_row1_col3\" class=\"data row1 col3\" >0.000000</td>\n",
              "      <td id=\"T_1a8df_row1_col4\" class=\"data row1 col4\" >0.000000</td>\n",
              "      <td id=\"T_1a8df_row1_col5\" class=\"data row1 col5\" >0.000000</td>\n",
              "      <td id=\"T_1a8df_row1_col6\" class=\"data row1 col6\" >0.000000</td>\n",
              "      <td id=\"T_1a8df_row1_col7\" class=\"data row1 col7\" >0.000000</td>\n",
              "    </tr>\n",
              "    <tr>\n",
              "      <th id=\"T_1a8df_level0_row2\" class=\"row_heading level0 row2\" >data</th>\n",
              "      <td id=\"T_1a8df_row2_col0\" class=\"data row2 col0\" >0.000000</td>\n",
              "      <td id=\"T_1a8df_row2_col1\" class=\"data row2 col1\" >0.000000</td>\n",
              "      <td id=\"T_1a8df_row2_col2\" class=\"data row2 col2\" >0.000000</td>\n",
              "      <td id=\"T_1a8df_row2_col3\" class=\"data row2 col3\" >1.000000</td>\n",
              "      <td id=\"T_1a8df_row2_col4\" class=\"data row2 col4\" >0.000000</td>\n",
              "      <td id=\"T_1a8df_row2_col5\" class=\"data row2 col5\" >0.000000</td>\n",
              "      <td id=\"T_1a8df_row2_col6\" class=\"data row2 col6\" >0.000000</td>\n",
              "      <td id=\"T_1a8df_row2_col7\" class=\"data row2 col7\" >0.000000</td>\n",
              "    </tr>\n",
              "    <tr>\n",
              "      <th id=\"T_1a8df_level0_row3\" class=\"row_heading level0 row3\" >science</th>\n",
              "      <td id=\"T_1a8df_row3_col0\" class=\"data row3 col0\" >0.000000</td>\n",
              "      <td id=\"T_1a8df_row3_col1\" class=\"data row3 col1\" >0.000000</td>\n",
              "      <td id=\"T_1a8df_row3_col2\" class=\"data row3 col2\" >0.000000</td>\n",
              "      <td id=\"T_1a8df_row3_col3\" class=\"data row3 col3\" >0.000000</td>\n",
              "      <td id=\"T_1a8df_row3_col4\" class=\"data row3 col4\" >1.000000</td>\n",
              "      <td id=\"T_1a8df_row3_col5\" class=\"data row3 col5\" >0.000000</td>\n",
              "      <td id=\"T_1a8df_row3_col6\" class=\"data row3 col6\" >0.000000</td>\n",
              "      <td id=\"T_1a8df_row3_col7\" class=\"data row3 col7\" >0.000000</td>\n",
              "    </tr>\n",
              "    <tr>\n",
              "      <th id=\"T_1a8df_level0_row4\" class=\"row_heading level0 row4\" >and</th>\n",
              "      <td id=\"T_1a8df_row4_col0\" class=\"data row4 col0\" >0.000000</td>\n",
              "      <td id=\"T_1a8df_row4_col1\" class=\"data row4 col1\" >0.000000</td>\n",
              "      <td id=\"T_1a8df_row4_col2\" class=\"data row4 col2\" >0.000000</td>\n",
              "      <td id=\"T_1a8df_row4_col3\" class=\"data row4 col3\" >0.000000</td>\n",
              "      <td id=\"T_1a8df_row4_col4\" class=\"data row4 col4\" >0.000000</td>\n",
              "      <td id=\"T_1a8df_row4_col5\" class=\"data row4 col5\" >1.000000</td>\n",
              "      <td id=\"T_1a8df_row4_col6\" class=\"data row4 col6\" >0.000000</td>\n",
              "      <td id=\"T_1a8df_row4_col7\" class=\"data row4 col7\" >0.000000</td>\n",
              "    </tr>\n",
              "    <tr>\n",
              "      <th id=\"T_1a8df_level0_row5\" class=\"row_heading level0 row5\" >deep</th>\n",
              "      <td id=\"T_1a8df_row5_col0\" class=\"data row5 col0\" >0.000000</td>\n",
              "      <td id=\"T_1a8df_row5_col1\" class=\"data row5 col1\" >0.000000</td>\n",
              "      <td id=\"T_1a8df_row5_col2\" class=\"data row5 col2\" >0.000000</td>\n",
              "      <td id=\"T_1a8df_row5_col3\" class=\"data row5 col3\" >0.000000</td>\n",
              "      <td id=\"T_1a8df_row5_col4\" class=\"data row5 col4\" >0.000000</td>\n",
              "      <td id=\"T_1a8df_row5_col5\" class=\"data row5 col5\" >0.000000</td>\n",
              "      <td id=\"T_1a8df_row5_col6\" class=\"data row5 col6\" >0.000000</td>\n",
              "      <td id=\"T_1a8df_row5_col7\" class=\"data row5 col7\" >0.000000</td>\n",
              "    </tr>\n",
              "    <tr>\n",
              "      <th id=\"T_1a8df_level0_row6\" class=\"row_heading level0 row6\" >Know</th>\n",
              "      <td id=\"T_1a8df_row6_col0\" class=\"data row6 col0\" >0.000000</td>\n",
              "      <td id=\"T_1a8df_row6_col1\" class=\"data row6 col1\" >0.000000</td>\n",
              "      <td id=\"T_1a8df_row6_col2\" class=\"data row6 col2\" >0.000000</td>\n",
              "      <td id=\"T_1a8df_row6_col3\" class=\"data row6 col3\" >0.000000</td>\n",
              "      <td id=\"T_1a8df_row6_col4\" class=\"data row6 col4\" >0.000000</td>\n",
              "      <td id=\"T_1a8df_row6_col5\" class=\"data row6 col5\" >0.000000</td>\n",
              "      <td id=\"T_1a8df_row6_col6\" class=\"data row6 col6\" >0.000000</td>\n",
              "      <td id=\"T_1a8df_row6_col7\" class=\"data row6 col7\" >1.000000</td>\n",
              "    </tr>\n",
              "    <tr>\n",
              "      <th id=\"T_1a8df_level0_row7\" class=\"row_heading level0 row7\" >this</th>\n",
              "      <td id=\"T_1a8df_row7_col0\" class=\"data row7 col0\" >0.000000</td>\n",
              "      <td id=\"T_1a8df_row7_col1\" class=\"data row7 col1\" >0.000000</td>\n",
              "      <td id=\"T_1a8df_row7_col2\" class=\"data row7 col2\" >0.000000</td>\n",
              "      <td id=\"T_1a8df_row7_col3\" class=\"data row7 col3\" >0.000000</td>\n",
              "      <td id=\"T_1a8df_row7_col4\" class=\"data row7 col4\" >0.000000</td>\n",
              "      <td id=\"T_1a8df_row7_col5\" class=\"data row7 col5\" >0.000000</td>\n",
              "      <td id=\"T_1a8df_row7_col6\" class=\"data row7 col6\" >0.000000</td>\n",
              "      <td id=\"T_1a8df_row7_col7\" class=\"data row7 col7\" >0.000000</td>\n",
              "    </tr>\n",
              "  </tbody>\n",
              "</table>\n"
            ],
            "text/plain": [
              "<pandas.io.formats.style.Styler at 0x22f64df71f0>"
            ]
          },
          "execution_count": 23,
          "metadata": {},
          "output_type": "execute_result"
        }
      ],
      "source": [
        "df = pd.DataFrame(prob_matrix, index=cpd.keys(), columns=cpd.keys())\n",
        "df.style.background_gradient(cmap='coolwarm')"
      ]
    },
    {
      "cell_type": "markdown",
      "metadata": {
        "id": "5uS2j0rUytbk"
      },
      "source": [
        "* 확률 행렬도 인접 행렬로 간주할 수 있다.\n",
        "* 그래프 시각화시 빈도 행렬과 동일한 결과를 얻을 수 있으나, 확률을 가중치로 사용시 부정확한 결과를 얻을 수 있다."
      ]
    },
    {
      "cell_type": "markdown",
      "metadata": {},
      "source": [
        "##### ④ 그래프 생성"
      ]
    },
    {
      "cell_type": "code",
      "execution_count": 24,
      "metadata": {
        "id": "qvK09OMeytiM"
      },
      "outputs": [
        {
          "name": "stdout",
          "output_type": "stream",
          "text": [
            "['I', 'love', 'data', 'science', 'and', 'deep', 'Know', 'this']\n",
            "[('I', 'love'), ('I', 'Know'), ('love', 'data'), ('data', 'science'), ('science', 'and'), ('and', 'deep'), ('Know', 'this')]\n"
          ]
        }
      ],
      "source": [
        "prob_G = nx.from_pandas_adjacency(df)\n",
        "\n",
        "print(prob_G.nodes())\n",
        "print(prob_G.edges())"
      ]
    },
    {
      "cell_type": "markdown",
      "metadata": {},
      "source": [
        "- 가중치 계산"
      ]
    },
    {
      "cell_type": "code",
      "execution_count": 25,
      "metadata": {},
      "outputs": [
        {
          "name": "stdout",
          "output_type": "stream",
          "text": [
            "{'weight': 2}\n",
            "{'weight': 1}\n",
            "{'weight': 0.6666666666666666}\n",
            "{'weight': 0.3333333333333333}\n"
          ]
        }
      ],
      "source": [
        "print(G.edges()[('I', 'love')])\n",
        "print(G.edges()[('I', 'Know')])\n",
        "\n",
        "print(prob_G.edges()[('I', 'love')])\n",
        "print(prob_G.edges()[('I', 'Know')])"
      ]
    },
    {
      "cell_type": "markdown",
      "metadata": {},
      "source": [
        "##### ⑤ 그래프로 시각화"
      ]
    },
    {
      "cell_type": "code",
      "execution_count": 26,
      "metadata": {
        "id": "NDwhyWPN3YOa"
      },
      "outputs": [
        {
          "data": {
            "image/png": "[encoded data removed]",
            "text/plain": [
              "<Figure size 432x288 with 1 Axes>"
            ]
          },
          "metadata": {},
          "output_type": "display_data"
        }
      ],
      "source": [
        "nx.draw(prob_G, with_labels=True)"
      ]
    },
    {
      "cell_type": "markdown",
      "metadata": {
        "id": "ecrrZMfTzo-a"
      },
      "source": [
        "### 3. 중심성(Centrality) 지수"
      ]
    },
    {
      "cell_type": "markdown",
      "metadata": {
        "id": "UD_m6Jr34IDY"
      },
      "source": [
        "* 연결망 분석에서 가장 많이 주목하는 속성은 바로 중심성 지수이다.\n",
        "* 중심성은 전체 연결망에서 중심에 위치하는 정도를 표현하는 지표로, 이를 분석하면 연결 정도, 중요도 등을 알 수 있다.\n",
        "* 중심성 지수는 나타내는 특징에 따라 연결 중심성, 매개 중심성, 근접 중심성, 위세 중심성으로 구분한다."
      ]
    },
    {
      "cell_type": "markdown",
      "metadata": {
        "id": "yeWdLGGtzv3y"
      },
      "source": [
        "#### 1) 연결 중심성(Degree Centrality)"
      ]
    },
    {
      "cell_type": "markdown",
      "metadata": {
        "id": "-KlB1zAYoZIr"
      },
      "source": [
        "* 연결 중심성은 가장 기본적이고 직관적으로 중심섬을 측정하는 지표이다.\n",
        "* 텍스트에서 다른 단어와의 동시 출현 빈도가 많은 특정 단어는 연결 중심성이 높다고 볼 수 있다.\n",
        "* 연결 정도로만 측정하면 연결망의 크기에 따라 달라져 비교가 어렵기 때문에 여러 방법으로 표준화한다.\n",
        "* 주로 (특정 노드 i와 직접적으로 연결된 노드 수 / 노드 i와 직간접적으로 연결된 노드 수)로 계산한다.\n",
        "\n",
        "* 여기서 직접적으로 연결된 노드는 서로 엣지 관계인 노드를 뜻하며, 간접적으로 연결된 노드는 서로 엣지 관계는 아니나 다른 노드와 엣지에 의해 도달할 수 있는 노드를 말한다."
      ]
    },
    {
      "cell_type": "markdown",
      "metadata": {
        "id": "V6Wpl3ctqJIr"
      },
      "source": [
        "* 연결 중심성 계산 수식\n",
        "\n",
        "$$ degree_{ik} = \\sum_{i=1}^{N} Z_{ijk} = Z_{jk}$$\n",
        "$$ outdegree_{ik} = \\sum_{j=1}^{N} Z_{ijk} = Z_{ik} $$\n",
        "$$ C_{i} = \\sum_{j=1}^{n}(Z_{ij}+Z_{ji}) / \\sum_{i=1}^{n}\\sum_{j=1}^{n}(Z_{ij})\\qquad단, 0\\le C \\le 1$$"
      ]
    },
    {
      "cell_type": "markdown",
      "metadata": {
        "id": "0MfaWMTTsjlh"
      },
      "source": [
        "* 해당 수식을 직접 계산할 수도 있으나, `networkx`에는 해당 라이브러리로 구성된 그래프의 연결 중심성을 쉽게 계산해주는 함수가 존한다.  "
      ]
    },
    {
      "cell_type": "markdown",
      "metadata": {},
      "source": [
        "##### ① 연결 중심성 weight 계산"
      ]
    },
    {
      "cell_type": "code",
      "execution_count": 27,
      "metadata": {
        "id": "kAuXf3rhzwG6"
      },
      "outputs": [
        {
          "data": {
            "text/plain": [
              "{'I': 0.2857142857142857,\n",
              " 'love': 0.2857142857142857,\n",
              " 'data': 0.2857142857142857,\n",
              " 'science': 0.2857142857142857,\n",
              " 'and': 0.2857142857142857,\n",
              " 'deep': 0.14285714285714285,\n",
              " 'Know': 0.2857142857142857,\n",
              " 'this': 0.14285714285714285}"
            ]
          },
          "execution_count": 27,
          "metadata": {},
          "output_type": "execute_result"
        }
      ],
      "source": [
        "nx.degree_centrality(G)"
      ]
    },
    {
      "cell_type": "markdown",
      "metadata": {},
      "source": [
        "##### ② 노드 사이즈 계산 함수 생성"
      ]
    },
    {
      "cell_type": "code",
      "execution_count": 28,
      "metadata": {},
      "outputs": [],
      "source": [
        "def get_node_size(node_values):\n",
        "    nsize = np.array([v for v in node_values])\n",
        "    nsize = 1000 * (nsize - min(nsize)) / (max(nsize) - min(nsize))\n",
        "\n",
        "    return nsize"
      ]
    },
    {
      "cell_type": "markdown",
      "metadata": {},
      "source": [
        "##### ③ plt 스타일 설정"
      ]
    },
    {
      "cell_type": "code",
      "execution_count": 29,
      "metadata": {},
      "outputs": [],
      "source": [
        "import matplotlib.pyplot as plt\n",
        "\n",
        "plt.style.use('seaborn-white')"
      ]
    },
    {
      "cell_type": "markdown",
      "metadata": {},
      "source": [
        "##### ④ 그래프 시각화"
      ]
    },
    {
      "cell_type": "markdown",
      "metadata": {},
      "source": [
        "- 노드 사이 중요도와 랭킹 차이를 노드의 사이즈에 반영하여 시각화 한다.\n",
        "- 중심성 값에 따라 각 노드 사이즈를 다르게 해야 한다.\n",
        "- 사이즈를 나타내는 함수를 정의해서 노드 사이즈를 계산한다."
      ]
    },
    {
      "cell_type": "code",
      "execution_count": 30,
      "metadata": {},
      "outputs": [
        {
          "data": {
            "image/png": "[encoded data removed]",
            "text/plain": [
              "<Figure size 1008x504 with 2 Axes>"
            ]
          },
          "metadata": {},
          "output_type": "display_data"
        }
      ],
      "source": [
        "dc = nx.degree_centrality(G).values()\n",
        "\n",
        "plt.figure(figsize=(14,7))\n",
        "plt.axis('off')\n",
        "\n",
        "plt.subplot(121) \n",
        "plt.title('Normal', fontsize=16)\n",
        "nx.draw_networkx(G, font_size=16, alpha=0.7, cmap=plt.cm.Blues)\n",
        "\n",
        "plt.subplot(122)\n",
        "plt.title('Degree Centrality', fontsize=16)\n",
        "nx.draw_networkx(G, font_size=16, node_color=list(dc), node_size=get_node_size(dc), alpha=0.7, cmap=plt.cm.Blues)"
      ]
    },
    {
      "cell_type": "markdown",
      "metadata": {
        "id": "CcXMGpXkzwOC"
      },
      "source": [
        "#### 2) 위세 중심성(Eigenvector Centraility)"
      ]
    },
    {
      "cell_type": "markdown",
      "metadata": {
        "id": "9hCmeXpGwYZE"
      },
      "source": [
        "* 위세 중심성은 연결된 상대 단어의 중요성에 가중치를 둔다.\n",
        "* 중요한 단어와 많이 연결됐다면 위세 중심성은 높아지게 된다.\n",
        "* 위세 중심성은 고유 벡터로써 인접해 있는 노드의 위세 점수와 관련되어 있어 직접 계산하기는 쉽지 않다."
      ]
    },
    {
      "cell_type": "markdown",
      "metadata": {
        "id": "7gzAhV3Exw1K"
      },
      "source": [
        "* 위세 중심성 계산 수식\n",
        "\n",
        "$$ P_i =\\sum_{j=1}^{N-1}P_iZ_{ji},\\qquad0 \\le P_i \\le 1$$"
      ]
    },
    {
      "cell_type": "markdown",
      "metadata": {
        "id": "iLprc5-fyPqa"
      },
      "source": [
        "* 위세 중심성 계산에는 `eigenvector_centraility`를 이용해 계산한다.\n",
        "* `weight`로는 어휘 동시 출현 빈도를 이용한다."
      ]
    },
    {
      "cell_type": "markdown",
      "metadata": {},
      "source": [
        "##### ① 위세 중심성 weight 계산"
      ]
    },
    {
      "cell_type": "code",
      "execution_count": 31,
      "metadata": {
        "id": "PynA3AxvzwTI"
      },
      "outputs": [
        {
          "data": {
            "text/plain": [
              "{'I': 0.618741997484724,\n",
              " 'love': 0.6223045175925663,\n",
              " 'data': 0.3122260984183694,\n",
              " 'science': 0.1552224883366372,\n",
              " 'and': 0.07431709028004341,\n",
              " 'deep': 0.02984384880487991,\n",
              " 'Know': 0.29623033468397025,\n",
              " 'this': 0.11895450435929002}"
            ]
          },
          "execution_count": 31,
          "metadata": {},
          "output_type": "execute_result"
        }
      ],
      "source": [
        "nx.eigenvector_centrality(G, weight='weight')"
      ]
    },
    {
      "cell_type": "markdown",
      "metadata": {},
      "source": [
        "##### ② 그래프 시각화"
      ]
    },
    {
      "cell_type": "code",
      "execution_count": 32,
      "metadata": {},
      "outputs": [
        {
          "data": {
            "image/png": "[encoded data removed]",
            "text/plain": [
              "<Figure size 1008x504 with 2 Axes>"
            ]
          },
          "metadata": {},
          "output_type": "display_data"
        }
      ],
      "source": [
        "ec = nx.eigenvector_centrality(G, weight='weight').values()\n",
        "\n",
        "plt.figure(figsize=(14,7))\n",
        "plt.axis('off')\n",
        "\n",
        "plt.subplot(121) \n",
        "plt.title('Normal', fontsize=16)\n",
        "nx.draw_networkx(G, font_size=16, alpha=0.7, cmap=plt.cm.Blues)\n",
        "\n",
        "plt.subplot(122)\n",
        "plt.title('Eigenvector Centrality', fontsize=16)\n",
        "nx.draw_networkx(G, font_size=16, node_color=list(ec), node_size=get_node_size(ec), alpha=0.7, cmap=plt.cm.Blues)"
      ]
    },
    {
      "cell_type": "markdown",
      "metadata": {
        "id": "Ucp7jIuVzwZ6"
      },
      "source": [
        "#### 3) 근접 중심성(Closeness Centrality)"
      ]
    },
    {
      "cell_type": "markdown",
      "metadata": {
        "id": "37sMX-YOydX2"
      },
      "source": [
        "* 근접 중심성은 한 단어가 다른 단어에 얼마나 가깝게 있는지를 측정하는 지표이다.\n",
        "* 직접적으로 연결된 노드만 측정하는 연결 중심성과는 다르게, 근접 중심성은 직간접적으로 연결된 모든 노드들 사이의 거리를 측정한다.\n",
        "* 근접 중심성을 측정하기 위해선 다음과 같이 계산한다.\n",
        "  (모든 노드 수 - 1 / 특정 노드 i에서 모든 노드에 이르는 최단 경로 수를 모두 더한 수)"
      ]
    },
    {
      "cell_type": "markdown",
      "metadata": {
        "id": "pe-cPBjI0Dgi"
      },
      "source": [
        "\n",
        "$$ C_C(A) = \\frac{1}{\\frac{1}{N-1}\\sum_{x \\ne A}l_{X,A}} = \\frac{N-1}{\\sum_{x \\ne A}l_{X,A}} $$"
      ]
    },
    {
      "cell_type": "markdown",
      "metadata": {
        "id": "2GuKUAJH05ap"
      },
      "source": [
        "* 근접 중심성을 계산하기 위해선 `closeness_centrality()` 함수를 사용한다."
      ]
    },
    {
      "cell_type": "markdown",
      "metadata": {},
      "source": [
        "##### ① 근접 중심성 weight 계산"
      ]
    },
    {
      "cell_type": "code",
      "execution_count": 33,
      "metadata": {
        "id": "zllK1iK9zwiM"
      },
      "outputs": [
        {
          "data": {
            "text/plain": [
              "{'I': 0.30434782608695654,\n",
              " 'love': 0.3684210526315789,\n",
              " 'data': 0.3684210526315789,\n",
              " 'science': 0.3333333333333333,\n",
              " 'and': 0.28,\n",
              " 'deep': 0.22580645161290322,\n",
              " 'Know': 0.25925925925925924,\n",
              " 'this': 0.21212121212121213}"
            ]
          },
          "execution_count": 33,
          "metadata": {},
          "output_type": "execute_result"
        }
      ],
      "source": [
        "nx.closeness_centrality(G, distance='weight')"
      ]
    },
    {
      "cell_type": "markdown",
      "metadata": {},
      "source": [
        "##### ② 그래프 시각화"
      ]
    },
    {
      "cell_type": "code",
      "execution_count": 34,
      "metadata": {},
      "outputs": [
        {
          "data": {
            "image/png": "[encoded data removed]",
            "text/plain": [
              "<Figure size 1008x504 with 2 Axes>"
            ]
          },
          "metadata": {},
          "output_type": "display_data"
        }
      ],
      "source": [
        "cc = nx.closeness_centrality(G, distance='weight').values()\n",
        "\n",
        "plt.figure(figsize=(14,7))\n",
        "plt.axis('off')\n",
        "\n",
        "plt.subplot(121) \n",
        "plt.title('Normal', fontsize=16)\n",
        "nx.draw_networkx(G, font_size=16, alpha=0.7, cmap=plt.cm.Blues)\n",
        "\n",
        "plt.subplot(122)\n",
        "plt.title('Closeness Centrality', fontsize=16)\n",
        "nx.draw_networkx(G, font_size=16, node_color=list(cc), node_size=get_node_size(cc), alpha=0.7, cmap=plt.cm.Blues)"
      ]
    },
    {
      "cell_type": "markdown",
      "metadata": {
        "id": "G1l7sHdtz35g"
      },
      "source": [
        "#### 4) 매개 중심성(Betweeness Centrality)"
      ]
    },
    {
      "cell_type": "markdown",
      "metadata": {
        "id": "yEXo-gzV2sQQ"
      },
      "source": [
        "* 매개 중심성은 한 단어가 단어들과의 연결망을 구축하는데 얼마나 도움을 주는지 측정하는 지표이다.\n",
        "* 매개 중심성이 높은 단어는 빈도 수가 작더라도 단어 간 의미부여 역할이 크기 때문에, 해당 단어를 제거하면 의사소통이 어려워진다.\n",
        "* 매개 중심성은 모든 노드 간 최단 경로에서 특정 노드가 등장하는 횟수로 측정하며, 표준화를 위해 최댓값인 (N-1) x (N-2) / 2로 나눈다."
      ]
    },
    {
      "cell_type": "markdown",
      "metadata": {
        "id": "ogCMdFoL1Ch4"
      },
      "source": [
        "* 매개 중심성 계산 수식\n",
        "\n",
        "$$ C_{B}^{'}(P_m) = \\frac{\\sum_i^N \\sum_j^N \\frac{g_{imj}}{g_{ij}}}{(\\frac{N^2-3N+2}{2})}, \\qquad 단, i<j,\\quad i \\ne j$$"
      ]
    },
    {
      "cell_type": "markdown",
      "metadata": {
        "id": "efWuZV2P39hc"
      },
      "source": [
        "* 매개 중심성을 계산하기 위해선 `current_flow_betweenness_centrality()` 함수를 이용한다."
      ]
    },
    {
      "cell_type": "markdown",
      "metadata": {},
      "source": [
        "##### ① 매개 중심성 weight 계산"
      ]
    },
    {
      "cell_type": "code",
      "execution_count": 35,
      "metadata": {
        "id": "q0rYR3wQz3-D"
      },
      "outputs": [
        {
          "data": {
            "text/plain": [
              "{'I': 0.47619047619047616,\n",
              " 'love': 0.5714285714285714,\n",
              " 'data': 0.5714285714285714,\n",
              " 'science': 0.47619047619047616,\n",
              " 'and': 0.2857142857142857,\n",
              " 'deep': 0.0,\n",
              " 'Know': 0.2857142857142857,\n",
              " 'this': 0.0}"
            ]
          },
          "execution_count": 35,
          "metadata": {},
          "output_type": "execute_result"
        }
      ],
      "source": [
        "nx.betweenness_centrality(G)"
      ]
    },
    {
      "cell_type": "markdown",
      "metadata": {},
      "source": [
        "##### ② 그래프 시각화"
      ]
    },
    {
      "cell_type": "code",
      "execution_count": 36,
      "metadata": {},
      "outputs": [
        {
          "data": {
            "image/png": "[encoded data removed]",
            "text/plain": [
              "<Figure size 1008x504 with 2 Axes>"
            ]
          },
          "metadata": {},
          "output_type": "display_data"
        }
      ],
      "source": [
        "bc = nx.betweenness_centrality(G).values()\n",
        "\n",
        "plt.figure(figsize=(14,7))\n",
        "plt.axis('off')\n",
        "\n",
        "plt.subplot(121) \n",
        "plt.title('Normal', fontsize=16)\n",
        "nx.draw_networkx(G, font_size=16, alpha=0.7, cmap=plt.cm.Blues)\n",
        "\n",
        "plt.subplot(122)\n",
        "plt.title('Betweenness Centrality', fontsize=16)\n",
        "nx.draw_networkx(G, font_size=16, node_color=list(bc), node_size=get_node_size(bc), alpha=0.7, cmap=plt.cm.Blues)"
      ]
    },
    {
      "cell_type": "markdown",
      "metadata": {
        "id": "lhdU3ocgtNt-"
      },
      "source": [
        "#### 5) 페이지랭크(PageRank)"
      ]
    },
    {
      "cell_type": "markdown",
      "metadata": {},
      "source": [
        "* 월드 와이드 웹과 같은 하이퍼링크 구조를 가지는 문서에 상대적 중요도에 따라 가중치를 부여하는 방법이다.\n",
        "* 이 알고리즘은 서로간에 인용과 참조로 연결된 임의의 묶음에 적용 가능하다.\n",
        "* 페이지 랭크는 더 중요한 페이지는 더 많은 다른 사이트로부터 링크를 받는다는 관찰에 기초한다."
      ]
    },
    {
      "cell_type": "markdown",
      "metadata": {},
      "source": [
        "##### ① 페이지랭크 중심성 weight 계산"
      ]
    },
    {
      "cell_type": "code",
      "execution_count": 37,
      "metadata": {
        "id": "_YcT9iUDtfUZ"
      },
      "outputs": [
        {
          "data": {
            "text/plain": [
              "{'I': 0.16604487665923956,\n",
              " 'love': 0.1639643180731959,\n",
              " 'data': 0.12028637724338961,\n",
              " 'science': 0.1295990134668058,\n",
              " 'and': 0.1405365755123698,\n",
              " 'deep': 0.07847742827203451,\n",
              " 'Know': 0.12795924018796379,\n",
              " 'this': 0.07313217058500093}"
            ]
          },
          "execution_count": 37,
          "metadata": {},
          "output_type": "execute_result"
        }
      ],
      "source": [
        "nx.pagerank(G)"
      ]
    },
    {
      "cell_type": "markdown",
      "metadata": {},
      "source": [
        "##### ② 그래프 시각화"
      ]
    },
    {
      "cell_type": "code",
      "execution_count": 38,
      "metadata": {},
      "outputs": [
        {
          "data": {
            "image/png": "[encoded data removed]",
            "text/plain": [
              "<Figure size 1008x504 with 2 Axes>"
            ]
          },
          "metadata": {},
          "output_type": "display_data"
        }
      ],
      "source": [
        "pr = nx.pagerank(G).values()\n",
        "\n",
        "plt.figure(figsize=(14,7))\n",
        "plt.axis('off')\n",
        "\n",
        "plt.subplot(121) \n",
        "plt.title('Normal', fontsize=16)\n",
        "nx.draw_networkx(G, font_size=16, alpha=0.7, cmap=plt.cm.Blues)\n",
        "\n",
        "plt.subplot(122)\n",
        "plt.title('Page Rank', fontsize=16)\n",
        "nx.draw_networkx(G, font_size=16, node_color=list(pr), node_size=get_node_size(pr), alpha=0.7, cmap=plt.cm.Blues)"
      ]
    }
  ],
  "metadata": {
    "colab": {
      "provenance": []
    },
    "kernelspec": {
      "display_name": "Python 3.8.10 64-bit",
      "language": "python",
      "name": "python3"
    },
    "language_info": {
      "codemirror_mode": {
        "name": "ipython",
        "version": 3
      },
      "file_extension": ".py",
      "mimetype": "text/x-python",
      "name": "python",
      "nbconvert_exporter": "python",
      "pygments_lexer": "ipython3",
      "version": "3.8.10"
    },
    "vscode": {
      "interpreter": {
        "hash": "e2782e0ab7cab974e8fb2dfc8cec048a29dc3b50e54743df0c4a34ac41b2be7e"
      }
    }
  },
  "nbformat": 4,
  "nbformat_minor": 0
}
