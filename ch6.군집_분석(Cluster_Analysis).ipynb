{
  "cells": [
    {
      "cell_type": "markdown",
      "metadata": {
        "id": "yRJPtXEaccx9"
      },
      "source": [
        "## Chapter 6.군집 분석(Cluster Analysis)"
      ]
    },
    {
      "cell_type": "markdown",
      "metadata": {},
      "source": [
        "- 군집 분석은 데이터의 특성에 따라 유사한 것끼리 묶은 것이다.\n",
        "- 유사성을 기반으로 군집을 분류하고, 군집에 따라 유형별 특징을 분석하는 기법이다.\n",
        "- 텍스트에 대한 군집 분석에서는 군집으로 묶여진 텍스트들끼리는 최대한 유사하고, 다른 군집으로 묶여진 텍스트들과는 최대한 유사하지 않도록 분류하는 것이다."
      ]
    },
    {
      "cell_type": "markdown",
      "metadata": {
        "id": "VTtgEyisEzZs"
      },
      "source": [
        "### 1. 텍스트 유사도(Text Similarity)\n",
        "\n",
        "- 텍스트 유사도는 대표적으로 텍스트 쌍에 대한 자카드 유사도와 코사인 유사도로 계산할 수 있다.\n",
        "- 자카드 유사도(Jaccard Similarity): 두 텍스트 문서 사이에 공통된 용어의 수와 해당 텍스트에 존재하는 총 고유 용어 수의 비율을 사용한다.\n",
        "- 코사인 유사도(Cosine Similarity): 두 벡터 간의 코사인 각도를 이용하여 구할 수 있는 유사도 계산 방식이다."
      ]
    },
    {
      "cell_type": "markdown",
      "metadata": {},
      "source": [
        "#### 1) 자카드 유사도"
      ]
    },
    {
      "cell_type": "markdown",
      "metadata": {},
      "source": [
        "<img src='images/Jaccard1.png' width='300px'><img src='images/Jaccard2.png' width='400px'>\n",
        "  \n",
        "- A, B 두개의 집합이 있다고 할 때, 합집합에서 교집합의 비율을 구함으로써 유사도를 계산 방식이다.\n",
        "\n",
        "  ###### * 출처 : https://blog.naver.com/sw4r/222223674842"
      ]
    },
    {
      "cell_type": "markdown",
      "metadata": {},
      "source": [
        "##### ① 데이터 입력"
      ]
    },
    {
      "cell_type": "code",
      "execution_count": null,
      "metadata": {},
      "outputs": [],
      "source": [
        "d1 = \"The sky is blue\"\n",
        "d2 = \"The sun is bright\" \n",
        "d3 = \"The sun in the sky is bright\""
      ]
    },
    {
      "cell_type": "markdown",
      "metadata": {},
      "source": [
        "##### ② 자카드 유사도 함수 생성"
      ]
    },
    {
      "cell_type": "code",
      "execution_count": null,
      "metadata": {
        "id": "l-7nbG1VE-cz"
      },
      "outputs": [],
      "source": []
    },
    {
      "cell_type": "code",
      "execution_count": null,
      "metadata": {
        "id": "SOWHS-UBFXLc"
      },
      "outputs": [],
      "source": []
    },
    {
      "cell_type": "markdown",
      "metadata": {},
      "source": [
        "##### ③ 자카드 유사도 계산"
      ]
    },
    {
      "cell_type": "code",
      "execution_count": null,
      "metadata": {
        "id": "6NZjjhnHHlOd"
      },
      "outputs": [],
      "source": []
    },
    {
      "cell_type": "markdown",
      "metadata": {},
      "source": [
        "#### 2) 코사인 유사도"
      ]
    },
    {
      "cell_type": "markdown",
      "metadata": {},
      "source": [
        "<img src='images/cos.png' width='980px'>\n",
        "\n",
        "- 두 벡터의 방향이 완전히 동일한 경우에는 1의 값을 가지며, 90°의 각일때 0, 반대방향이면 -1의 값을 가진다.\n",
        "- 코사인 유사도는 -1 이상 1 이하의 값을 가지며 값이 1에 가까울수록 유사도가 높다고 판단할 수 있다."
      ]
    },
    {
      "cell_type": "markdown",
      "metadata": {},
      "source": [
        "##### ① tf-idf vectorizer 객체 생성"
      ]
    },
    {
      "cell_type": "code",
      "execution_count": null,
      "metadata": {},
      "outputs": [],
      "source": []
    },
    {
      "cell_type": "markdown",
      "metadata": {},
      "source": [
        "##### ② tf-idf 계산"
      ]
    },
    {
      "cell_type": "code",
      "execution_count": null,
      "metadata": {},
      "outputs": [],
      "source": []
    },
    {
      "cell_type": "markdown",
      "metadata": {},
      "source": [
        "##### ③ 코사인 유사도 계산"
      ]
    },
    {
      "cell_type": "markdown",
      "metadata": {},
      "source": [
        "- d1과 d1,d2,d3간 유사도"
      ]
    },
    {
      "cell_type": "code",
      "execution_count": null,
      "metadata": {},
      "outputs": [],
      "source": []
    },
    {
      "cell_type": "markdown",
      "metadata": {},
      "source": [
        "- 각 문서간 유사도"
      ]
    },
    {
      "cell_type": "code",
      "execution_count": null,
      "metadata": {},
      "outputs": [],
      "source": []
    },
    {
      "cell_type": "markdown",
      "metadata": {},
      "source": [
        "- 다른 문서와 d1,d2,d3간 유사도"
      ]
    },
    {
      "cell_type": "code",
      "execution_count": null,
      "metadata": {},
      "outputs": [],
      "source": []
    },
    {
      "cell_type": "markdown",
      "metadata": {},
      "source": [
        "- 시각화"
      ]
    },
    {
      "cell_type": "code",
      "execution_count": null,
      "metadata": {},
      "outputs": [],
      "source": []
    },
    {
      "cell_type": "markdown",
      "metadata": {
        "id": "jmVii1zTce9E"
      },
      "source": [
        "### 2. 군집화를 위한 데이터 전처리"
      ]
    },
    {
      "cell_type": "markdown",
      "metadata": {},
      "source": [
        "##### ① 네이버 영화 리뷰 데이터 다운 : https://raw.githubusercontent.com/e9t/nsmc/master/ratings.txt"
      ]
    },
    {
      "cell_type": "code",
      "execution_count": null,
      "metadata": {
        "id": "prB31aDvcG84"
      },
      "outputs": [],
      "source": [
        "import urllib.request\n",
        "raw = urllib.request.urlopen(\"https://raw.githubusercontent.com/e9t/nsmc/master/ratings.txt\").readlines()"
      ]
    },
    {
      "cell_type": "code",
      "execution_count": null,
      "metadata": {},
      "outputs": [],
      "source": []
    },
    {
      "cell_type": "markdown",
      "metadata": {},
      "source": [
        "##### ② 바이트를 문자열로 변환"
      ]
    },
    {
      "cell_type": "code",
      "execution_count": null,
      "metadata": {},
      "outputs": [],
      "source": []
    },
    {
      "cell_type": "markdown",
      "metadata": {},
      "source": [
        "##### ③ 리뷰 데이터만 추출"
      ]
    },
    {
      "cell_type": "code",
      "execution_count": null,
      "metadata": {
        "id": "Gcpkxp0icHTK"
      },
      "outputs": [],
      "source": []
    },
    {
      "cell_type": "markdown",
      "metadata": {},
      "source": [
        "##### ④ 형태소 분석"
      ]
    },
    {
      "cell_type": "code",
      "execution_count": null,
      "metadata": {
        "id": "8UXKdQxye2Lm"
      },
      "outputs": [],
      "source": []
    },
    {
      "cell_type": "code",
      "execution_count": null,
      "metadata": {},
      "outputs": [],
      "source": []
    },
    {
      "cell_type": "markdown",
      "metadata": {
        "id": "qDBX_LypciM-"
      },
      "source": [
        "### 3. Word2Vec 생성"
      ]
    },
    {
      "cell_type": "markdown",
      "metadata": {
        "id": "yXYVPJ2CUtW-"
      },
      "source": [
        "* `Word2Vec` 모델을 생성한다.\n",
        "* `gensim`의 `Word2Vec`은 선언과 동시에 학습을 해 단어 벡터들을 생성한다."
      ]
    },
    {
      "cell_type": "markdown",
      "metadata": {},
      "source": [
        "##### ① word2vec 모델 생성"
      ]
    },
    {
      "cell_type": "code",
      "execution_count": null,
      "metadata": {
        "id": "4m3e4uXkcosI"
      },
      "outputs": [],
      "source": []
    },
    {
      "cell_type": "code",
      "execution_count": null,
      "metadata": {
        "id": "PReikYb7nfIg"
      },
      "outputs": [],
      "source": []
    },
    {
      "cell_type": "markdown",
      "metadata": {},
      "source": [
        "##### ② 영화와 유사한 단어 추출"
      ]
    },
    {
      "cell_type": "code",
      "execution_count": null,
      "metadata": {
        "id": "Jx3Prw-hnfPC"
      },
      "outputs": [],
      "source": []
    },
    {
      "cell_type": "markdown",
      "metadata": {
        "id": "V90Ql6QzVuQm"
      },
      "source": [
        "##### ③ t-sne을 이용한 단어 벡터 시각화"
      ]
    },
    {
      "cell_type": "code",
      "execution_count": null,
      "metadata": {
        "id": "anGrbCTinfVl"
      },
      "outputs": [],
      "source": []
    },
    {
      "cell_type": "markdown",
      "metadata": {},
      "source": [
        "##### ④ 어휘간 유사도 계산"
      ]
    },
    {
      "cell_type": "code",
      "execution_count": null,
      "metadata": {},
      "outputs": [],
      "source": []
    },
    {
      "cell_type": "markdown",
      "metadata": {},
      "source": [
        "##### ⑤ 데이터 프레임으로 변환"
      ]
    },
    {
      "cell_type": "code",
      "execution_count": null,
      "metadata": {},
      "outputs": [],
      "source": []
    },
    {
      "cell_type": "markdown",
      "metadata": {},
      "source": [
        "##### ⑥ 시각화"
      ]
    },
    {
      "cell_type": "code",
      "execution_count": null,
      "metadata": {
        "id": "YtfvRHLcnfc1"
      },
      "outputs": [],
      "source": []
    },
    {
      "cell_type": "markdown",
      "metadata": {
        "id": "n6GqkGGRcw11"
      },
      "source": [
        "### 4. Scikit-learn, Scipy를 이용한 계층적 군집화"
      ]
    },
    {
      "cell_type": "markdown",
      "metadata": {
        "id": "w3_LdBuB3eu4"
      },
      "source": [
        "* 계층적 군집화란 개별 개체들을 유사한 개체나 그룹과 통합해 군집화를 수행하는 알고리즘\n",
        "* 비계층적 군집화와는 달리 군집 수를 지정하지 않아도 군집화를 할 수 있는 것이 장점  \n",
        "* 계층적 군집화는 모든 개체간 거리나 유사도가 미리 계산되어 있어야만 하며, 계산복잡도도 비계층적 군집화보다 큼\n",
        "\n",
        "\n"
      ]
    },
    {
      "cell_type": "markdown",
      "metadata": {
        "id": "ShV75NPoCOdR"
      },
      "source": [
        "#### 1) Scikit-learn을 이용한 계층적 군집화"
      ]
    },
    {
      "cell_type": "markdown",
      "metadata": {
        "id": "XqmquP17B-6r"
      },
      "source": [
        "- 비계층적 군집화의 일종인 `agglomerativeClustering`(병합 군집)을 이용하여 계층적 군집화 실습을 한다.    \n",
        "- 병합 군집은 각 개체들을 클러스터로 간주, 종료 조건을 만족할 때 까지 가장 비슷한 두 클러스터들을 합치며 진행한다.\n",
        "- 계속 합쳐 나가더라도 언젠가는 종료해야 하는데, 병합 군집의 종료 조건에는 3가지를 지정 가능하다.\n",
        "  1.   ward - 모든 클러스터 내의 분산을 가장 적게 증가시키는 두 클러스터를 합친다.(기본값)\n",
        "  2.   average - 클러스터간 평균 거리가 가장 짧은 두 클러스터를 합친다.\n",
        "  3.   complete - 클러스터간 최대 거리가 가장 짧은 두 클러스터를 합친다.\n",
        "* `scikit-learn` 사용 예제에서는 3가지 종료 조건 간의 차이를 비교해 본다."
      ]
    },
    {
      "cell_type": "markdown",
      "metadata": {
        "id": "5R-3nbN-Cflh"
      },
      "source": [
        "##### ① ward"
      ]
    },
    {
      "cell_type": "code",
      "execution_count": null,
      "metadata": {
        "id": "Boe1jwGmohMF"
      },
      "outputs": [],
      "source": []
    },
    {
      "cell_type": "markdown",
      "metadata": {},
      "source": [
        "- ward 객체 생성"
      ]
    },
    {
      "cell_type": "code",
      "execution_count": null,
      "metadata": {
        "id": "YzE7J1qqczzu"
      },
      "outputs": [],
      "source": []
    },
    {
      "cell_type": "markdown",
      "metadata": {},
      "source": [
        "- 어떤 클러스터에 속하는지 예측 연산"
      ]
    },
    {
      "cell_type": "code",
      "execution_count": null,
      "metadata": {},
      "outputs": [],
      "source": []
    },
    {
      "cell_type": "markdown",
      "metadata": {},
      "source": [
        "- 데이터 프레임으로 변환"
      ]
    },
    {
      "cell_type": "code",
      "execution_count": null,
      "metadata": {
        "id": "fd53VVnloj5-"
      },
      "outputs": [],
      "source": []
    },
    {
      "cell_type": "markdown",
      "metadata": {},
      "source": [
        "- 시각화"
      ]
    },
    {
      "cell_type": "code",
      "execution_count": null,
      "metadata": {},
      "outputs": [],
      "source": []
    },
    {
      "cell_type": "markdown",
      "metadata": {
        "id": "UzQbDI63Cidh"
      },
      "source": [
        "##### ② average"
      ]
    },
    {
      "cell_type": "markdown",
      "metadata": {},
      "source": [
        "- average 객체 생성"
      ]
    },
    {
      "cell_type": "code",
      "execution_count": null,
      "metadata": {
        "id": "-UupbES4C4jk"
      },
      "outputs": [],
      "source": []
    },
    {
      "cell_type": "markdown",
      "metadata": {},
      "source": [
        "- 어떤 클러스터에 속하는지 예측 연산"
      ]
    },
    {
      "cell_type": "code",
      "execution_count": null,
      "metadata": {},
      "outputs": [],
      "source": []
    },
    {
      "cell_type": "markdown",
      "metadata": {},
      "source": [
        "- 데이터 프레임으로 변환"
      ]
    },
    {
      "cell_type": "code",
      "execution_count": null,
      "metadata": {
        "id": "RZsnW5iTC4pC"
      },
      "outputs": [],
      "source": []
    },
    {
      "cell_type": "markdown",
      "metadata": {},
      "source": [
        "- 시각화"
      ]
    },
    {
      "cell_type": "code",
      "execution_count": null,
      "metadata": {
        "id": "82jEoQAoC4rt"
      },
      "outputs": [],
      "source": []
    },
    {
      "cell_type": "markdown",
      "metadata": {
        "id": "06we34IdCkfc"
      },
      "source": [
        "##### ③ complete"
      ]
    },
    {
      "cell_type": "markdown",
      "metadata": {},
      "source": [
        "- complete 객체 생성"
      ]
    },
    {
      "cell_type": "code",
      "execution_count": null,
      "metadata": {
        "id": "vRLkgHafDJ-T"
      },
      "outputs": [],
      "source": []
    },
    {
      "cell_type": "markdown",
      "metadata": {},
      "source": [
        "- 어떤 클러스터에 속하는지 예측 연산"
      ]
    },
    {
      "cell_type": "code",
      "execution_count": null,
      "metadata": {},
      "outputs": [],
      "source": []
    },
    {
      "cell_type": "markdown",
      "metadata": {},
      "source": [
        "- 데이터 프레임으로 변환"
      ]
    },
    {
      "cell_type": "code",
      "execution_count": null,
      "metadata": {
        "id": "z4fdn-rLDKAx"
      },
      "outputs": [],
      "source": []
    },
    {
      "cell_type": "markdown",
      "metadata": {},
      "source": [
        "- 시각화"
      ]
    },
    {
      "cell_type": "code",
      "execution_count": null,
      "metadata": {
        "id": "02fa3kUZDKC2"
      },
      "outputs": [],
      "source": []
    },
    {
      "cell_type": "markdown",
      "metadata": {
        "id": "0chOe9IyCXqm"
      },
      "source": [
        "#### 2) Scipy를 이용한 계층적 군집화"
      ]
    },
    {
      "cell_type": "markdown",
      "metadata": {
        "id": "8JonHGu1EBa5"
      },
      "source": [
        "* scipy를 이용한 거리 사용과 word2vec 사용을 비교해 본다."
      ]
    },
    {
      "cell_type": "markdown",
      "metadata": {
        "id": "vr4YdPeMDbjb"
      },
      "source": [
        "##### ① `pdist`를 이용한 각 단어간 유클리디안 거리 계산"
      ]
    },
    {
      "cell_type": "code",
      "execution_count": null,
      "metadata": {
        "id": "4HQRcyag1QvP"
      },
      "outputs": [],
      "source": []
    },
    {
      "cell_type": "code",
      "execution_count": null,
      "metadata": {},
      "outputs": [],
      "source": []
    },
    {
      "cell_type": "markdown",
      "metadata": {
        "id": "d53gCFB-DtBI"
      },
      "source": [
        "##### ② 각 단어간 유클리디안 거리를 이용한 군집 분석 및 덴드로그램 시각화"
      ]
    },
    {
      "cell_type": "code",
      "execution_count": null,
      "metadata": {
        "id": "7bJJj7Zx1SKn"
      },
      "outputs": [],
      "source": []
    },
    {
      "cell_type": "markdown",
      "metadata": {
        "id": "VKJY0tieD4Wp"
      },
      "source": [
        "##### ③ `word2vec`을 이용한 군집 분석 및 덴드로그램 시각화"
      ]
    },
    {
      "cell_type": "code",
      "execution_count": null,
      "metadata": {
        "id": "6gle9gDy1TQo"
      },
      "outputs": [],
      "source": []
    },
    {
      "cell_type": "markdown",
      "metadata": {
        "id": "wyqCamWJc0VE"
      },
      "source": [
        "### 5. Scikit-learn을 이용한 비계층적 군집화"
      ]
    },
    {
      "cell_type": "markdown",
      "metadata": {
        "id": "yq0Ft2QsEWZK"
      },
      "source": [
        "* 비계층적 군집화는 나눌 클러스터 개수를 지정해 각 개체가 어느 클러스터에 속하는 지를 결정\n",
        "* 계층적 군집화보다 계산 복잡도가 작기 때문에 대량의 데이터에 유리하나, 클러스터 개수에 따라 군집화 성능이 크게 좌우되기 때문에 조정이 필요"
      ]
    },
    {
      "cell_type": "markdown",
      "metadata": {
        "id": "1MGTaa99FFMM"
      },
      "source": [
        "* 대표적인 비계층적 군집화 알고리즘인 kmeans를 사용해 실습"
      ]
    },
    {
      "cell_type": "markdown",
      "metadata": {
        "id": "SvWrjSWyFkwy"
      },
      "source": [
        "#### 1) 클러스터 3개"
      ]
    },
    {
      "cell_type": "markdown",
      "metadata": {},
      "source": [
        "##### ① KMeans 객체 생성"
      ]
    },
    {
      "cell_type": "code",
      "execution_count": null,
      "metadata": {
        "id": "RgihAL89c3Wx"
      },
      "outputs": [],
      "source": []
    },
    {
      "cell_type": "code",
      "execution_count": null,
      "metadata": {},
      "outputs": [],
      "source": []
    },
    {
      "cell_type": "markdown",
      "metadata": {},
      "source": [
        "##### ② 어떤 클러스트에 속하는지 클러스터 인덱스 번호 출력"
      ]
    },
    {
      "cell_type": "code",
      "execution_count": null,
      "metadata": {},
      "outputs": [],
      "source": []
    },
    {
      "cell_type": "markdown",
      "metadata": {},
      "source": [
        "##### ③ 데이터 프레임으로 변환"
      ]
    },
    {
      "cell_type": "code",
      "execution_count": null,
      "metadata": {
        "id": "-ns_fXaVoaaW"
      },
      "outputs": [],
      "source": []
    },
    {
      "cell_type": "markdown",
      "metadata": {},
      "source": [
        "##### ④ 시각화"
      ]
    },
    {
      "cell_type": "code",
      "execution_count": null,
      "metadata": {
        "id": "R2E76_Kgocpf"
      },
      "outputs": [],
      "source": []
    },
    {
      "cell_type": "markdown",
      "metadata": {
        "id": "52uUi_HOFqf5"
      },
      "source": [
        "#### 2) 클러스터 6개"
      ]
    },
    {
      "cell_type": "markdown",
      "metadata": {},
      "source": [
        "##### ① KMeans 객체 생성"
      ]
    },
    {
      "cell_type": "code",
      "execution_count": null,
      "metadata": {
        "id": "UT86aH3GFcZR"
      },
      "outputs": [],
      "source": []
    },
    {
      "cell_type": "markdown",
      "metadata": {},
      "source": [
        "##### ② 어떤 클러스트에 속하는지 클러스터 인덱스 번호 출력"
      ]
    },
    {
      "cell_type": "code",
      "execution_count": null,
      "metadata": {},
      "outputs": [],
      "source": []
    },
    {
      "cell_type": "markdown",
      "metadata": {},
      "source": [
        "##### ③ 데이터 프레임으로 변환"
      ]
    },
    {
      "cell_type": "code",
      "execution_count": null,
      "metadata": {
        "id": "-ns_fXaVoaaW"
      },
      "outputs": [],
      "source": []
    },
    {
      "cell_type": "markdown",
      "metadata": {},
      "source": [
        "##### ④ 시각화"
      ]
    },
    {
      "cell_type": "code",
      "execution_count": null,
      "metadata": {
        "id": "FMq-oMFiFceO"
      },
      "outputs": [],
      "source": []
    }
  ],
  "metadata": {
    "colab": {
      "provenance": []
    },
    "kernelspec": {
      "display_name": "Python 3.8.10 64-bit",
      "language": "python",
      "name": "python3"
    },
    "language_info": {
      "codemirror_mode": {
        "name": "ipython",
        "version": 3
      },
      "file_extension": ".py",
      "mimetype": "text/x-python",
      "name": "python",
      "nbconvert_exporter": "python",
      "pygments_lexer": "ipython3",
      "version": "3.8.10"
    },
    "vscode": {
      "interpreter": {
        "hash": "e2782e0ab7cab974e8fb2dfc8cec048a29dc3b50e54743df0c4a34ac41b2be7e"
      }
    }
  },
  "nbformat": 4,
  "nbformat_minor": 0
}
