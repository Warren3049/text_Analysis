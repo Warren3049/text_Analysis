{
  "cells": [
    {
      "cell_type": "markdown",
      "metadata": {
        "id": "8w_tpqGaAyVO"
      },
      "source": [
        "## <b>Chapter 5.의미 연결망 분석(Semantic Network Analysis)</b>"
      ]
    },
    {
      "cell_type": "markdown",
      "metadata": {
        "id": "3vwuLxVfMRiB"
      },
      "source": [
        "- 사회 연결망 분석(Social Network Analysis)은 분석 대상 및 분석 대상들간의 관계를 연결망 구조로 표현하고 이를 계량적으로 제시하는 분석 기법이다,\n",
        "- 사회 연결망 분석은 사람, 장소, 물품 등의 객체 간의 관계를 분석하는데 효과적이며 주로 친구 관계, 전력 공급 등을 분석하는데 사용한다.\n",
        "- 사회 연결망 분석 기법을 텍스트 내 단어의 관계에 적용한 것이 바로 의미 연결망 분석((Semantic Network Analysis)이다.\n",
        "- 의미 연결망 분석에서는 일정한 범위 내에서 어휘가 동시에 등장하면 서로 연결된 것으로 간주, 이 연결 관계들을 분석한다."
      ]
    },
    {
      "cell_type": "markdown",
      "metadata": {
        "id": "M29i6PFkWzDc"
      },
      "source": [
        "### 1. n-gram 추출"
      ]
    },
    {
      "cell_type": "markdown",
      "metadata": {},
      "source": [
        "- n-gram은 n개의 어절이나 음절을 연쇄적으로 분류해 그 빈도를 분석한다.\n",
        "- 앞 뒤 어휘를 파악하여 관계를 생성하기 위해 n-gram 생성을 한다."
      ]
    },
    {
      "cell_type": "markdown",
      "metadata": {},
      "source": [
        "##### ① 데이터 입력"
      ]
    },
    {
      "cell_type": "code",
      "execution_count": null,
      "metadata": {},
      "outputs": [],
      "source": [
        "sentence = \"I love data science and deep learning\""
      ]
    },
    {
      "cell_type": "markdown",
      "metadata": {},
      "source": [
        "##### ② bgram"
      ]
    },
    {
      "cell_type": "code",
      "execution_count": null,
      "metadata": {
        "id": "s4kJbCxWYmZa"
      },
      "outputs": [],
      "source": []
    },
    {
      "cell_type": "code",
      "execution_count": null,
      "metadata": {
        "id": "vCbTuM2oX6I8"
      },
      "outputs": [],
      "source": []
    },
    {
      "cell_type": "code",
      "execution_count": null,
      "metadata": {},
      "outputs": [],
      "source": []
    },
    {
      "cell_type": "markdown",
      "metadata": {},
      "source": [
        "##### ② trigram, quadgram"
      ]
    },
    {
      "cell_type": "code",
      "execution_count": null,
      "metadata": {
        "id": "bRoIscVjZFV9"
      },
      "outputs": [],
      "source": []
    },
    {
      "cell_type": "code",
      "execution_count": null,
      "metadata": {},
      "outputs": [],
      "source": []
    },
    {
      "cell_type": "markdown",
      "metadata": {
        "id": "JkWZYBtuW1Gb"
      },
      "source": [
        "### 2. 어휘 동시 출현 빈도의 계수화"
      ]
    },
    {
      "cell_type": "markdown",
      "metadata": {
        "id": "6iMwMrupGj0I"
      },
      "source": [
        "* 동시 출현(Co-occurrence)란 두 개 이상의 어휘가 일정한 범위나 거리 내에서 함께 출현하는 것을 의미한다.\n",
        "* 단어간의 동시 출현 관계를 분석하면 문서나 문장으로부터 두 단어가 유사한 의미를 가졌는지 등의 추상화된 정보를 얻을 수 있다.\n",
        "* 동시 출현 빈도는 Window라는 지정 범위 내에서 동시 등장한 어휘를 확률 등으로 계수화 가능하다.\n",
        "* 예를 들어, 단어 뒤 잘못된 단어가 온다면, 이를 동시 출현 빈도가 높은 단어로 교정 가능, 또는 연관/관련 단처 추천 용도로도 사용 가능하다."
      ]
    },
    {
      "cell_type": "markdown",
      "metadata": {
        "id": "xdeJzfWKefM6"
      },
      "source": [
        "* 어휘 동시 출현 빈도 행렬은 하나하나 측정할 수도 있지만, 바이그램 개수를 정리하면 편리하게 만들어 볼 수 있다.\n",
        "* `nltk`에서 제공하는 `ConditionalFreqDist` 함수를 이용하면 문맥별 단어 빈도를 쉽게 측정 가능하다."
      ]
    },
    {
      "cell_type": "markdown",
      "metadata": {},
      "source": [
        "#### 1) 문맥별 단어 빈도 측정"
      ]
    },
    {
      "cell_type": "markdown",
      "metadata": {},
      "source": [
        "##### ① 데이터 입력"
      ]
    },
    {
      "cell_type": "code",
      "execution_count": null,
      "metadata": {},
      "outputs": [],
      "source": [
        "sentences = [\"I love data science and deep learning\", 'I love Science', 'I Know this code']"
      ]
    },
    {
      "cell_type": "markdown",
      "metadata": {},
      "source": [
        "##### ② 토큰화"
      ]
    },
    {
      "cell_type": "code",
      "execution_count": null,
      "metadata": {
        "id": "5nLFrqh0bDDu"
      },
      "outputs": [],
      "source": []
    },
    {
      "cell_type": "code",
      "execution_count": null,
      "metadata": {},
      "outputs": [],
      "source": []
    },
    {
      "cell_type": "markdown",
      "metadata": {},
      "source": [
        "##### ③ bigram 추출"
      ]
    },
    {
      "cell_type": "code",
      "execution_count": null,
      "metadata": {},
      "outputs": [],
      "source": []
    },
    {
      "cell_type": "markdown",
      "metadata": {},
      "source": [
        "##### ④ 빈도 측정"
      ]
    },
    {
      "cell_type": "markdown",
      "metadata": {},
      "source": [
        "- cfd 객체 생성"
      ]
    },
    {
      "cell_type": "code",
      "execution_count": null,
      "metadata": {},
      "outputs": [],
      "source": []
    },
    {
      "cell_type": "markdown",
      "metadata": {},
      "source": [
        "- 'I'에 대한 cfd 객체 출력 : bigram에서 'I'가 들어간 샘플 갯수와 출현된 빈도수"
      ]
    },
    {
      "cell_type": "code",
      "execution_count": null,
      "metadata": {
        "id": "j37YObgSumih"
      },
      "outputs": [],
      "source": []
    },
    {
      "cell_type": "markdown",
      "metadata": {},
      "source": [
        "- 두 단어가 동시 출현한 빈도 출력"
      ]
    },
    {
      "cell_type": "code",
      "execution_count": null,
      "metadata": {
        "id": "1qi_TGyUbEye"
      },
      "outputs": [],
      "source": []
    },
    {
      "cell_type": "markdown",
      "metadata": {},
      "source": [
        "- 'I'와 동시출현 빈도가 높은 1개 출력(단어, 횟수)"
      ]
    },
    {
      "cell_type": "code",
      "execution_count": null,
      "metadata": {
        "id": "212HozdE76Ne"
      },
      "outputs": [],
      "source": []
    },
    {
      "cell_type": "markdown",
      "metadata": {},
      "source": [
        "#### 2) 시각화"
      ]
    },
    {
      "cell_type": "markdown",
      "metadata": {},
      "source": [
        "##### ① 단어와 단어들간의 동시출현 빈도 매트릭스 생성"
      ]
    },
    {
      "cell_type": "code",
      "execution_count": null,
      "metadata": {},
      "outputs": [],
      "source": []
    },
    {
      "cell_type": "code",
      "execution_count": null,
      "metadata": {
        "id": "O8W76iFvWy5i"
      },
      "outputs": [],
      "source": []
    },
    {
      "cell_type": "markdown",
      "metadata": {
        "id": "IdfUT9Y_wXID"
      },
      "source": [
        "##### ② 해당 동시 출현 빈도 행렬을 좀 더 보기 쉽도록 데이터프레임으로 시각화"
      ]
    },
    {
      "cell_type": "code",
      "execution_count": null,
      "metadata": {
        "id": "PpSGjtsjXnHT"
      },
      "outputs": [],
      "source": []
    },
    {
      "cell_type": "markdown",
      "metadata": {
        "id": "BGGjGxUrwi2b"
      },
      "source": [
        "* 동시 출현 빈도 행렬은 인접 행렬로도 간주할 수 있다.\n",
        "* `networkx` 패키지를 사용해 해당 행렬을 그래프로 시각화한다."
      ]
    },
    {
      "cell_type": "markdown",
      "metadata": {},
      "source": [
        "##### ③ `networkx` 패키지를 사용해 해당 행렬을 그래프로 생성"
      ]
    },
    {
      "cell_type": "code",
      "execution_count": null,
      "metadata": {
        "id": "NP_fVs57wjK4"
      },
      "outputs": [],
      "source": []
    },
    {
      "cell_type": "markdown",
      "metadata": {
        "id": "VVffevvX12lg"
      },
      "source": [
        "- 각 단어가 동시 출현한 횟수(가중치)"
      ]
    },
    {
      "cell_type": "code",
      "execution_count": null,
      "metadata": {
        "id": "5_ip9oSd2AOY"
      },
      "outputs": [],
      "source": []
    },
    {
      "cell_type": "markdown",
      "metadata": {
        "id": "I2TNV9401ke7"
      },
      "source": [
        "##### ④ `nx.draw`를 통한 그래프 시각화"
      ]
    },
    {
      "cell_type": "code",
      "execution_count": null,
      "metadata": {
        "id": "2bt9zZ0P1aCc"
      },
      "outputs": [],
      "source": []
    },
    {
      "cell_type": "markdown",
      "metadata": {},
      "source": [
        "#### 3) 동시 출현 확률 계산"
      ]
    },
    {
      "cell_type": "markdown",
      "metadata": {
        "id": "MrafXR_vaqd9"
      },
      "source": [
        "* 어휘 동시 출현 빈도를 이용하면 어휘 동시 출현 확률까지 측정 가능하다.\n",
        "* 어휘 동시 출현 확률 계산에는 `nltk`의 `ConditionalProbDist`를 이용한다."
      ]
    },
    {
      "cell_type": "markdown",
      "metadata": {},
      "source": [
        "##### ① cfd 객체 생성"
      ]
    },
    {
      "cell_type": "code",
      "execution_count": null,
      "metadata": {
        "id": "dOfiGSVL8I38"
      },
      "outputs": [],
      "source": []
    },
    {
      "cell_type": "markdown",
      "metadata": {},
      "source": [
        "##### ② 확률 매트릭스 형태로 출력"
      ]
    },
    {
      "cell_type": "code",
      "execution_count": null,
      "metadata": {
        "id": "aliwTDpm85V5"
      },
      "outputs": [],
      "source": []
    },
    {
      "cell_type": "markdown",
      "metadata": {},
      "source": [
        "##### ③ 시인성을 높이기 위해 데이터프레임으로 변환"
      ]
    },
    {
      "cell_type": "code",
      "execution_count": null,
      "metadata": {
        "id": "DELaFrOLQyTY"
      },
      "outputs": [],
      "source": []
    },
    {
      "cell_type": "markdown",
      "metadata": {
        "id": "5uS2j0rUytbk"
      },
      "source": [
        "* 확률 행렬도 인접 행렬로 간주할 수 있다.\n",
        "* 그래프 시각화시 빈도 행렬과 동일한 결과를 얻을 수 있으나, 확률을 가중치로 사용시 부정확한 결과를 얻을 수 있다."
      ]
    },
    {
      "cell_type": "markdown",
      "metadata": {},
      "source": [
        "##### ④ 그래프 생성"
      ]
    },
    {
      "cell_type": "code",
      "execution_count": null,
      "metadata": {
        "id": "qvK09OMeytiM"
      },
      "outputs": [],
      "source": []
    },
    {
      "cell_type": "markdown",
      "metadata": {},
      "source": [
        "- 가중치 계산"
      ]
    },
    {
      "cell_type": "code",
      "execution_count": null,
      "metadata": {},
      "outputs": [],
      "source": []
    },
    {
      "cell_type": "markdown",
      "metadata": {},
      "source": [
        "##### ⑤ 그래프로 시각화"
      ]
    },
    {
      "cell_type": "code",
      "execution_count": null,
      "metadata": {
        "id": "NDwhyWPN3YOa"
      },
      "outputs": [],
      "source": []
    },
    {
      "cell_type": "markdown",
      "metadata": {
        "id": "ecrrZMfTzo-a"
      },
      "source": [
        "### 3. 중심성(Centrality) 지수"
      ]
    },
    {
      "cell_type": "markdown",
      "metadata": {
        "id": "UD_m6Jr34IDY"
      },
      "source": [
        "* 연결망 분석에서 가장 많이 주목하는 속성은 바로 중심성 지수이다.\n",
        "* 중심성은 전체 연결망에서 중심에 위치하는 정도를 표현하는 지표로, 이를 분석하면 연결 정도, 중요도 등을 알 수 있다.\n",
        "* 중심성 지수는 나타내는 특징에 따라 연결 중심성, 매개 중심성, 근접 중심성, 위세 중심성으로 구분한다."
      ]
    },
    {
      "cell_type": "markdown",
      "metadata": {
        "id": "yeWdLGGtzv3y"
      },
      "source": [
        "#### 1) 연결 중심성(Degree Centrality)"
      ]
    },
    {
      "cell_type": "markdown",
      "metadata": {
        "id": "-KlB1zAYoZIr"
      },
      "source": [
        "* 연결 중심성은 가장 기본적이고 직관적으로 중심섬을 측정하는 지표이다.\n",
        "* 텍스트에서 다른 단어와의 동시 출현 빈도가 많은 특정 단어는 연결 중심성이 높다고 볼 수 있다.\n",
        "* 연결 정도로만 측정하면 연결망의 크기에 따라 달라져 비교가 어렵기 때문에 여러 방법으로 표준화한다.\n",
        "* 주로 (특정 노드 i와 직접적으로 연결된 노드 수 / 노드 i와 직간접적으로 연결된 노드 수)로 계산한다.\n",
        "\n",
        "* 여기서 직접적으로 연결된 노드는 서로 엣지 관계인 노드를 뜻하며, 간접적으로 연결된 노드는 서로 엣지 관계는 아니나 다른 노드와 엣지에 의해 도달할 수 있는 노드를 말한다."
      ]
    },
    {
      "cell_type": "markdown",
      "metadata": {
        "id": "V6Wpl3ctqJIr"
      },
      "source": [
        "* 연결 중심성 계산 수식\n",
        "\n",
        "$$ degree_{ik} = \\sum_{i=1}^{N} Z_{ijk} = Z_{jk}$$\n",
        "$$ outdegree_{ik} = \\sum_{j=1}^{N} Z_{ijk} = Z_{ik} $$\n",
        "$$ C_{i} = \\sum_{j=1}^{n}(Z_{ij}+Z_{ji}) / \\sum_{i=1}^{n}\\sum_{j=1}^{n}(Z_{ij})\\qquad단, 0\\le C \\le 1$$"
      ]
    },
    {
      "cell_type": "markdown",
      "metadata": {
        "id": "0MfaWMTTsjlh"
      },
      "source": [
        "* 해당 수식을 직접 계산할 수도 있으나, `networkx`에는 해당 라이브러리로 구성된 그래프의 연결 중심성을 쉽게 계산해주는 함수가 존한다.  "
      ]
    },
    {
      "cell_type": "markdown",
      "metadata": {},
      "source": [
        "##### ① 연결 중심성 weight 계산"
      ]
    },
    {
      "cell_type": "code",
      "execution_count": null,
      "metadata": {
        "id": "kAuXf3rhzwG6"
      },
      "outputs": [],
      "source": []
    },
    {
      "cell_type": "markdown",
      "metadata": {},
      "source": [
        "##### ② 노드 사이즈 계산 함수 생성"
      ]
    },
    {
      "cell_type": "code",
      "execution_count": null,
      "metadata": {},
      "outputs": [],
      "source": []
    },
    {
      "cell_type": "markdown",
      "metadata": {},
      "source": [
        "##### ③ plt 스타일 설정"
      ]
    },
    {
      "cell_type": "code",
      "execution_count": null,
      "metadata": {},
      "outputs": [],
      "source": []
    },
    {
      "cell_type": "markdown",
      "metadata": {},
      "source": [
        "##### ④ 그래프 시각화"
      ]
    },
    {
      "cell_type": "markdown",
      "metadata": {},
      "source": [
        "- 노드 사이 중요도와 랭킹 차이를 노드의 사이즈에 반영하여 시각화 한다.\n",
        "- 중심성 값에 따라 각 노드 사이즈를 다르게 해야 한다.\n",
        "- 사이즈를 나타내는 함수를 정의해서 노드 사이즈를 계산한다."
      ]
    },
    {
      "cell_type": "code",
      "execution_count": null,
      "metadata": {},
      "outputs": [],
      "source": []
    },
    {
      "cell_type": "markdown",
      "metadata": {
        "id": "CcXMGpXkzwOC"
      },
      "source": [
        "#### 2) 위세 중심성(Eigenvector Centraility)"
      ]
    },
    {
      "cell_type": "markdown",
      "metadata": {
        "id": "9hCmeXpGwYZE"
      },
      "source": [
        "* 위세 중심성은 연결된 상대 단어의 중요성에 가중치를 둔다.\n",
        "* 중요한 단어와 많이 연결됐다면 위세 중심성은 높아지게 된다.\n",
        "* 위세 중심성은 고유 벡터로써 인접해 있는 노드의 위세 점수와 관련되어 있어 직접 계산하기는 쉽지 않다."
      ]
    },
    {
      "cell_type": "markdown",
      "metadata": {
        "id": "7gzAhV3Exw1K"
      },
      "source": [
        "* 위세 중심성 계산 수식\n",
        "\n",
        "$$ P_i =\\sum_{j=1}^{N-1}P_iZ_{ji},\\qquad0 \\le P_i \\le 1$$"
      ]
    },
    {
      "cell_type": "markdown",
      "metadata": {
        "id": "iLprc5-fyPqa"
      },
      "source": [
        "* 위세 중심성 계산에는 `eigenvector_centraility`를 이용해 계산한다.\n",
        "* `weight`로는 어휘 동시 출현 빈도를 이용한다."
      ]
    },
    {
      "cell_type": "markdown",
      "metadata": {},
      "source": [
        "##### ① 위세 중심성 weight 계산"
      ]
    },
    {
      "cell_type": "code",
      "execution_count": null,
      "metadata": {
        "id": "PynA3AxvzwTI"
      },
      "outputs": [],
      "source": []
    },
    {
      "cell_type": "markdown",
      "metadata": {},
      "source": [
        "##### ② 그래프 시각화"
      ]
    },
    {
      "cell_type": "code",
      "execution_count": null,
      "metadata": {},
      "outputs": [],
      "source": []
    },
    {
      "cell_type": "markdown",
      "metadata": {
        "id": "Ucp7jIuVzwZ6"
      },
      "source": [
        "#### 3) 근접 중심성(Closeness Centrality)"
      ]
    },
    {
      "cell_type": "markdown",
      "metadata": {
        "id": "37sMX-YOydX2"
      },
      "source": [
        "* 근접 중심성은 한 단어가 다른 단어에 얼마나 가깝게 있는지를 측정하는 지표이다.\n",
        "* 직접적으로 연결된 노드만 측정하는 연결 중심성과는 다르게, 근접 중심성은 직간접적으로 연결된 모든 노드들 사이의 거리를 측정한다.\n",
        "* 근접 중심성을 측정하기 위해선 다음과 같이 계산한다.\n",
        "  (모든 노드 수 - 1 / 특정 노드 i에서 모든 노드에 이르는 최단 경로 수를 모두 더한 수)"
      ]
    },
    {
      "cell_type": "markdown",
      "metadata": {
        "id": "pe-cPBjI0Dgi"
      },
      "source": [
        "\n",
        "$$ C_C(A) = \\frac{1}{\\frac{1}{N-1}\\sum_{x \\ne A}l_{X,A}} = \\frac{N-1}{\\sum_{x \\ne A}l_{X,A}} $$"
      ]
    },
    {
      "cell_type": "markdown",
      "metadata": {
        "id": "2GuKUAJH05ap"
      },
      "source": [
        "* 근접 중심성을 계산하기 위해선 `closeness_centrality()` 함수를 사용한다."
      ]
    },
    {
      "cell_type": "markdown",
      "metadata": {},
      "source": [
        "##### ① 근접 중심성 weight 계산"
      ]
    },
    {
      "cell_type": "code",
      "execution_count": null,
      "metadata": {
        "id": "zllK1iK9zwiM"
      },
      "outputs": [],
      "source": []
    },
    {
      "cell_type": "markdown",
      "metadata": {},
      "source": [
        "##### ② 그래프 시각화"
      ]
    },
    {
      "cell_type": "code",
      "execution_count": null,
      "metadata": {},
      "outputs": [],
      "source": []
    },
    {
      "cell_type": "markdown",
      "metadata": {
        "id": "G1l7sHdtz35g"
      },
      "source": [
        "#### 4) 매개 중심성(Betweeness Centrality)"
      ]
    },
    {
      "cell_type": "markdown",
      "metadata": {
        "id": "yEXo-gzV2sQQ"
      },
      "source": [
        "* 매개 중심성은 한 단어가 단어들과의 연결망을 구축하는데 얼마나 도움을 주는지 측정하는 지표이다.\n",
        "* 매개 중심성이 높은 단어는 빈도 수가 작더라도 단어 간 의미부여 역할이 크기 때문에, 해당 단어를 제거하면 의사소통이 어려워진다.\n",
        "* 매개 중심성은 모든 노드 간 최단 경로에서 특정 노드가 등장하는 횟수로 측정하며, 표준화를 위해 최댓값인 (N-1) x (N-2) / 2로 나눈다."
      ]
    },
    {
      "cell_type": "markdown",
      "metadata": {
        "id": "ogCMdFoL1Ch4"
      },
      "source": [
        "* 매개 중심성 계산 수식\n",
        "\n",
        "$$ C_{B}^{'}(P_m) = \\frac{\\sum_i^N \\sum_j^N \\frac{g_{imj}}{g_{ij}}}{(\\frac{N^2-3N+2}{2})}, \\qquad 단, i<j,\\quad i \\ne j$$"
      ]
    },
    {
      "cell_type": "markdown",
      "metadata": {
        "id": "efWuZV2P39hc"
      },
      "source": [
        "* 매개 중심성을 계산하기 위해선 `current_flow_betweenness_centrality()` 함수를 이용한다."
      ]
    },
    {
      "cell_type": "markdown",
      "metadata": {},
      "source": [
        "##### ① 매개 중심성 weight 계산"
      ]
    },
    {
      "cell_type": "code",
      "execution_count": null,
      "metadata": {
        "id": "q0rYR3wQz3-D"
      },
      "outputs": [],
      "source": []
    },
    {
      "cell_type": "markdown",
      "metadata": {},
      "source": [
        "##### ② 그래프 시각화"
      ]
    },
    {
      "cell_type": "code",
      "execution_count": null,
      "metadata": {},
      "outputs": [],
      "source": []
    },
    {
      "cell_type": "markdown",
      "metadata": {
        "id": "lhdU3ocgtNt-"
      },
      "source": [
        "#### 5) 페이지랭크(PageRank)"
      ]
    },
    {
      "cell_type": "markdown",
      "metadata": {},
      "source": [
        "* 월드 와이드 웹과 같은 하이퍼링크 구조를 가지는 문서에 상대적 중요도에 따라 가중치를 부여하는 방법이다.\n",
        "* 이 알고리즘은 서로간에 인용과 참조로 연결된 임의의 묶음에 적용 가능하다.\n",
        "* 페이지 랭크는 더 중요한 페이지는 더 많은 다른 사이트로부터 링크를 받는다는 관찰에 기초한다."
      ]
    },
    {
      "cell_type": "markdown",
      "metadata": {},
      "source": [
        "##### ① 페이지랭크 중심성 weight 계산"
      ]
    },
    {
      "cell_type": "code",
      "execution_count": null,
      "metadata": {
        "id": "_YcT9iUDtfUZ"
      },
      "outputs": [],
      "source": []
    },
    {
      "cell_type": "markdown",
      "metadata": {},
      "source": [
        "##### ② 그래프 시각화"
      ]
    },
    {
      "cell_type": "code",
      "execution_count": null,
      "metadata": {},
      "outputs": [],
      "source": []
    }
  ],
  "metadata": {
    "colab": {
      "provenance": []
    },
    "kernelspec": {
      "display_name": "Python 3.8.10 64-bit",
      "language": "python",
      "name": "python3"
    },
    "language_info": {
      "codemirror_mode": {
        "name": "ipython",
        "version": 3
      },
      "file_extension": ".py",
      "mimetype": "text/x-python",
      "name": "python",
      "nbconvert_exporter": "python",
      "pygments_lexer": "ipython3",
      "version": "3.8.10"
    },
    "vscode": {
      "interpreter": {
        "hash": "e2782e0ab7cab974e8fb2dfc8cec048a29dc3b50e54743df0c4a34ac41b2be7e"
      }
    }
  },
  "nbformat": 4,
  "nbformat_minor": 0
}
