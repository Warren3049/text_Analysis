{
 "cells": [
  {
   "cell_type": "markdown",
   "metadata": {
    "id": "seyd-uis1amt"
   },
   "source": [
    "## <b>Chapter 7.감정 분석(Sentiment Analysis)</b>"
   ]
  },
  {
   "cell_type": "markdown",
   "metadata": {},
   "source": [
    "### 1. 감정분석의 개념"
   ]
  },
  {
   "cell_type": "markdown",
   "metadata": {
    "id": "CDMnE0jUf4J_"
   },
   "source": [
    "* 감정 분석은 텍스트에 등장하는 단어들을 통해 어떤 감정이 드러나는지 분석하는 기법이다.\n",
    "* 감정 분석은 오피니언 마이닝으로도 불리며, 텍스트에 담긴 의견, 태도 등을 알아보는데 유용한 기법이다.\n",
    "* 감정 분석을 하기 위해선 미리 정의된 감정 어휘 사전이 필요하다.\n",
    "* 감정 어휘 사전에 포함된 어휘가 텍스트에 얼마나 분포하는지에 따라 해당 텍스트의 감정이 좌우한다.\n",
    "* 토픽 모델링이 텍스트의 주제를 찾아낸다면, 감정 분석은 텍스트의 의견을 찾아낸다.\n",
    "* 텍스트는 주제(토픽)와 의견(감정)의 결합으로 이루어졌다고 볼 수 있다.\n",
    "* 감정 분석은 SNS, 리뷰 분석에 유용하게 사용할 수 있다.\n",
    "* 특정 이슈에 대한 사람들의 감정을 실시간으로 분석한다면, 그에 대해 신속하게 대처 가능하다."
   ]
  },
  {
   "cell_type": "markdown",
   "metadata": {},
   "source": [
    "### 2. 파이썬으로 감정을 분석하는 방법"
   ]
  },
  {
   "cell_type": "markdown",
   "metadata": {
    "id": "gjLWG0_ajFzn"
   },
   "source": [
    "+ 감정 어휘 사전을 이용한 감정 상태 분류\n",
    "  -  미리 분류해 둔 감정어 사전을 통해 분석하고자 하는 텍스트의 단어들을 사전에 기반해 분류하고, 그 감정 점수를 계산한다.\n",
    "  - 이 때 사용되는 감정어 사전에는 해당 감정에 해당되는 단어를 미리 정의해둬야 한다.\n",
    "+ 기계학습을 이용한 감정 상태 분류\n",
    "  - 분석 데이터의 일부를 훈련 데이터로 사용해 그로부터 텍스트의 감정 상태를 분류한다.\n",
    "  - 이 때 사용되는 훈련 데이터는 사용자가 분류한 감정 라벨이 포함되어 있어야 하며, 이를 인공 신경망, 의사 결정 트리 등의 기계 학습 알고리즘을 사용하여 분류한다."
   ]
  },
  {
   "cell_type": "markdown",
   "metadata": {
    "id": "rPWJKXRetKa-"
   },
   "source": [
    "### 3. 감정 어휘 사전(afinn)을 이용한 감정 상태 분류"
   ]
  },
  {
   "cell_type": "markdown",
   "metadata": {
    "id": "d1EKNUx10hPU"
   },
   "source": [
    "#### 1) 감정 사전 준비"
   ]
  },
  {
   "cell_type": "markdown",
   "metadata": {
    "id": "z-UuqQNat9EM"
   },
   "source": [
    "*   감정 사전 라이브러리 afinn을 설치한다.\n",
    "*   afinn은 영어에 대한 긍정, 부정에 대한 감정 사전을 제공한다."
   ]
  },
  {
   "cell_type": "markdown",
   "metadata": {
    "id": "8knqhUY40j9l"
   },
   "source": [
    "#### 2) 데이터 준비"
   ]
  },
  {
   "cell_type": "markdown",
   "metadata": {
    "id": "Bc7QYk_uuGDb"
   },
   "source": [
    "- 사용할 데이터를 구성 : 사이킷런에 내장되어 있는 뉴스그룹 데이터를 이용한다."
   ]
  },
  {
   "cell_type": "code",
   "execution_count": null,
   "metadata": {
    "id": "GElY4USel3n_"
   },
   "outputs": [],
   "source": []
  },
  {
   "cell_type": "markdown",
   "metadata": {
    "id": "ZE8bOQKo0lh6"
   },
   "source": [
    "#### 3) 감정 상태 분류 및 시각화"
   ]
  },
  {
   "cell_type": "markdown",
   "metadata": {
    "id": "pisFqwp3uTRC"
   },
   "source": [
    "*   감정 사전을 구성하고 감정 스코어를 측정한다.\n",
    "*   afinn 라이브러리는 감정 사전과 더불어 편리하게 감정가를 계산할 수 있는 함수를 제공한다."
   ]
  },
  {
   "cell_type": "markdown",
   "metadata": {},
   "source": [
    "##### ① afinn 객체 생성"
   ]
  },
  {
   "cell_type": "code",
   "execution_count": null,
   "metadata": {
    "id": "p3GW5ZH7lxtg"
   },
   "outputs": [],
   "source": []
  },
  {
   "cell_type": "markdown",
   "metadata": {},
   "source": [
    "##### ② 뉴스별 감정 점수 측정"
   ]
  },
  {
   "cell_type": "code",
   "execution_count": null,
   "metadata": {},
   "outputs": [],
   "source": []
  },
  {
   "cell_type": "markdown",
   "metadata": {},
   "source": [
    "##### ④ plt 스타일 설정"
   ]
  },
  {
   "cell_type": "code",
   "execution_count": null,
   "metadata": {
    "id": "TFk55O5Iukmv"
   },
   "outputs": [],
   "source": []
  },
  {
   "cell_type": "code",
   "execution_count": null,
   "metadata": {},
   "outputs": [],
   "source": []
  },
  {
   "cell_type": "markdown",
   "metadata": {},
   "source": [
    "##### ⑤ 시각화  * 2분30초 소요"
   ]
  },
  {
   "cell_type": "code",
   "execution_count": null,
   "metadata": {},
   "outputs": [],
   "source": []
  },
  {
   "cell_type": "code",
   "execution_count": null,
   "metadata": {},
   "outputs": [],
   "source": []
  },
  {
   "cell_type": "markdown",
   "metadata": {},
   "source": [
    "### 4. 감정 어휘 사전(KNU)을 이용한 문서 감정 분석"
   ]
  },
  {
   "cell_type": "markdown",
   "metadata": {},
   "source": [
    "- 한국어 감정 사전\n",
    "   - 서울대에서 개발한 KOSAC은 개발자에게 동의를 얻어 사용가능 : KoNLPy에서 사용 가능하다.\n",
    "      - http://word.snu.ac.kr/kosac/lexicon.php\n",
    "   - 군산대학교(KNU)에서 새발한 사전은 특정 단어의 감성지수를 손쉽게 이용 가능하다.\n",
    "      - http://dilab.kunsan.ac.kr/knusl.html\n",
    "   - 연세대학교 오픈한글 프로젝트 : http://openhangul.com/"
   ]
  },
  {
   "cell_type": "markdown",
   "metadata": {},
   "source": [
    "#### 1) 감정사전 불러오기 : KNU 데이터 사용  * 한국어 감정어휘 사전이 공개되지 않아 영문 텍스트 감정분석"
   ]
  },
  {
   "cell_type": "markdown",
   "metadata": {},
   "source": [
    "##### ① 감정사전 열기"
   ]
  },
  {
   "cell_type": "code",
   "execution_count": null,
   "metadata": {},
   "outputs": [],
   "source": []
  },
  {
   "cell_type": "markdown",
   "metadata": {},
   "source": [
    "##### ② 감정사전 리스트로 만들기"
   ]
  },
  {
   "cell_type": "code",
   "execution_count": null,
   "metadata": {},
   "outputs": [],
   "source": []
  },
  {
   "cell_type": "code",
   "execution_count": null,
   "metadata": {},
   "outputs": [],
   "source": []
  },
  {
   "cell_type": "code",
   "execution_count": null,
   "metadata": {},
   "outputs": [],
   "source": []
  },
  {
   "cell_type": "markdown",
   "metadata": {},
   "source": [
    "##### ③ 데이터 가져오기 : 지속가능 보고서 회장 인사말"
   ]
  },
  {
   "cell_type": "code",
   "execution_count": null,
   "metadata": {},
   "outputs": [],
   "source": []
  },
  {
   "cell_type": "markdown",
   "metadata": {},
   "source": [
    "##### ④ 전처리 : 2~3개씩 기업별로 있는 인사말을 하나의 딕셔너리에 기업별로 통합"
   ]
  },
  {
   "cell_type": "code",
   "execution_count": null,
   "metadata": {},
   "outputs": [],
   "source": []
  },
  {
   "cell_type": "code",
   "execution_count": null,
   "metadata": {},
   "outputs": [],
   "source": []
  },
  {
   "cell_type": "code",
   "execution_count": null,
   "metadata": {},
   "outputs": [],
   "source": []
  },
  {
   "cell_type": "markdown",
   "metadata": {},
   "source": [
    "##### ⑤ 토큰화"
   ]
  },
  {
   "cell_type": "code",
   "execution_count": null,
   "metadata": {},
   "outputs": [],
   "source": []
  },
  {
   "cell_type": "code",
   "execution_count": null,
   "metadata": {},
   "outputs": [],
   "source": []
  },
  {
   "cell_type": "code",
   "execution_count": null,
   "metadata": {},
   "outputs": [],
   "source": []
  },
  {
   "cell_type": "code",
   "execution_count": null,
   "metadata": {},
   "outputs": [],
   "source": []
  },
  {
   "cell_type": "markdown",
   "metadata": {},
   "source": [
    "##### ⑥ 감정(긍정/부정) 계산"
   ]
  },
  {
   "cell_type": "markdown",
   "metadata": {},
   "source": [
    "- 감정분석을 위해 각 토큰마다 긍정에 해당하면 +1, 부정에 해당하면 -1로 계산한다.\n",
    "- 전체 단어의 수로 나누어서 각 기업마다 감정점수(긍정-부정 정도)를 계산한다."
   ]
  },
  {
   "cell_type": "code",
   "execution_count": null,
   "metadata": {},
   "outputs": [],
   "source": []
  },
  {
   "cell_type": "markdown",
   "metadata": {},
   "source": [
    "##### ⑦ 감정분석한 결과 시각화"
   ]
  },
  {
   "cell_type": "code",
   "execution_count": null,
   "metadata": {},
   "outputs": [],
   "source": []
  },
  {
   "cell_type": "code",
   "execution_count": null,
   "metadata": {},
   "outputs": [],
   "source": []
  },
  {
   "cell_type": "markdown",
   "metadata": {},
   "source": [
    "### 5. 세분화된 감정 분석"
   ]
  },
  {
   "cell_type": "markdown",
   "metadata": {},
   "source": [
    "##### ① 감정어휘집 읽기\n",
    "- py_lex에 있는 감정어휘집을 이용하여 매우 다양한 세부 감정에 대해 분석 가능"
   ]
  },
  {
   "cell_type": "code",
   "execution_count": null,
   "metadata": {},
   "outputs": [],
   "source": []
  },
  {
   "cell_type": "code",
   "execution_count": null,
   "metadata": {},
   "outputs": [],
   "source": []
  },
  {
   "cell_type": "code",
   "execution_count": null,
   "metadata": {},
   "outputs": [],
   "source": []
  },
  {
   "cell_type": "markdown",
   "metadata": {},
   "source": [
    "##### ② 각 토큰에 대해서 감정 사전의 다양한 감정 정보로 세분화하여 계산 : 각 기업마다 감정의 정도를 계산한 결과를 가지게 됨"
   ]
  },
  {
   "cell_type": "code",
   "execution_count": null,
   "metadata": {},
   "outputs": [],
   "source": []
  },
  {
   "cell_type": "code",
   "execution_count": null,
   "metadata": {},
   "outputs": [],
   "source": []
  },
  {
   "cell_type": "markdown",
   "metadata": {},
   "source": [
    "##### ③ 시각화 하기 위해 각 기업마다 계산된 결과를 세분화된 감정으로 분류하여 저장"
   ]
  },
  {
   "cell_type": "code",
   "execution_count": null,
   "metadata": {},
   "outputs": [],
   "source": [
    "emotion_result=[]\n",
    "for firm in emotion_firm:\n",
    "    emotion_result.append({\"Firm\" : firm[0],\n",
    "                           \"Positive\": str(\"%0.2f\"%( firm[1][0]/(firm[1][0]+firm[1][1])*100 ))+\"%\",\n",
    "                            \"Negative\" : str(\"%0.2f\"%( firm[1][1]/(firm[1][0]+firm[1][1])*100 ))+\"%\",\n",
    "                            \"Anger\" : str(\"%0.2f\"%( firm[1][2]/(firm[1][0]+firm[1][1])*100 ))+\"%\",\n",
    "                            \"Anticipation\" : str(\"%0.2f\"%( firm[1][3]/(firm[1][0]+firm[1][1])*100 ))+\"%\",\n",
    "                            \"Disgust\" : str(\"%0.2f\"%( firm[1][4]/(firm[1][0]+firm[1][1])*100 ))+\"%\",\n",
    "                            \"Fear\" : str(\"%0.2f\"%( firm[1][5]/(firm[1][0]+firm[1][1])*100 ))+\"%\",\n",
    "                            \"Joy\" : str(\"%0.2f\"%( firm[1][6]/(firm[1][0]+firm[1][1])*100 ))+\"%\",\n",
    "                            \"Sadness\" : str(\"%0.2f\"%( firm[1][7]/(firm[1][0]+firm[1][1])*100 ))+\"%\",\n",
    "                            \"Surprise\" : str(\"%0.2f\"%( firm[1][8]/(firm[1][0]+firm[1][1])*100 ))+\"%\",\n",
    "                            \"Trust\" : str(\"%0.2f\"%( firm[1][9]/(firm[1][0]+firm[1][1])*100 ))+\"%\",\n",
    "                            \"Sentiwords / non-sentiwords (%)\":str(\"%0.2f\"%(firm[2]*100))+\"%\"}\n",
    "                          )\n",
    "emotion_result[0:10]"
   ]
  },
  {
   "cell_type": "markdown",
   "metadata": {},
   "source": [
    "##### ④ 세분화하여 감정분석한 결과를 3차원으로 시각하하기 위해 x,y,z정보를 정의"
   ]
  },
  {
   "cell_type": "code",
   "execution_count": null,
   "metadata": {},
   "outputs": [],
   "source": []
  },
  {
   "cell_type": "markdown",
   "metadata": {},
   "source": [
    "##### ⑤ 세부 감정대로 나온 결과를 3차원으로 시각화"
   ]
  },
  {
   "cell_type": "code",
   "execution_count": null,
   "metadata": {},
   "outputs": [],
   "source": []
  },
  {
   "cell_type": "markdown",
   "metadata": {},
   "source": [
    "##### ⑧ 감정 종류별 시각화"
   ]
  },
  {
   "cell_type": "markdown",
   "metadata": {},
   "source": [
    "- 각 기업마다 세분화하여 감정분석한 결과를 2차원 막대 그래프로 시각화\n",
    "- x는 기업, y는 감정에 해당하는 단어들의 수\n",
    "- 막대 그래프 내에 세분화된 감정들이 종류별로 시각화"
   ]
  },
  {
   "cell_type": "code",
   "execution_count": null,
   "metadata": {},
   "outputs": [],
   "source": [
    "E=[]\n",
    "plt.rcParams[\"figure.figsize\"]=(15,10)\n",
    "plt.rcParams[\"ytick.labelsize\"]=20\n",
    "plt.rcParams[\"xtick.labelsize\"]=20\n",
    "plt.rcParams[\"legend.fontsize\"]=15\n",
    "\n",
    "for firm in emotion_firm:\n",
    "    E.append(firm[1][2:])\n",
    "a=np.transpose(E)\n",
    "X=np.arange(len(a[0]))\n",
    "\n",
    "plt.bar(X,a[0],label='Anger')\n",
    "plt.bar(X,a[1],bottom=a[0],label='Anticipation')\n",
    "plt.bar(X,a[2],bottom=sum(a[0:2]),label='Disgust')\n",
    "plt.bar(X,a[3],bottom=sum(a[0:3]),label='Fear')\n",
    "plt.bar(X,a[4],bottom=sum(a[0:4]),label='Joy')\n",
    "plt.bar(X,a[5],bottom=sum(a[0:5]),label='Sadness')\n",
    "plt.bar(X,a[6],bottom=sum(a[0:6]),label='Suprise')\n",
    "plt.bar(X,a[7],bottom=sum(a[0:7]),label='Trust')\n",
    "\n",
    "plt.xlabel=\"Firm index\"\n",
    "plt.legend()\n",
    "plt.show()"
   ]
  }
 ],
 "metadata": {
  "kernelspec": {
   "display_name": "Python 3 (ipykernel)",
   "language": "python",
   "name": "python3"
  },
  "language_info": {
   "codemirror_mode": {
    "name": "ipython",
    "version": 3
   },
   "file_extension": ".py",
   "mimetype": "text/x-python",
   "name": "python",
   "nbconvert_exporter": "python",
   "pygments_lexer": "ipython3",
   "version": "3.8.10"
  },
  "vscode": {
   "interpreter": {
    "hash": "e2782e0ab7cab974e8fb2dfc8cec048a29dc3b50e54743df0c4a34ac41b2be7e"
   }
  }
 },
 "nbformat": 4,
 "nbformat_minor": 2
}
