{
  "cells": [
    {
      "cell_type": "markdown",
      "metadata": {},
      "source": [
        "## Chapter 2.텍스트_전처리(Pre-processing)"
      ]
    },
    {
      "cell_type": "markdown",
      "metadata": {
        "id": "YLv9iQK0HOlX"
      },
      "source": [
        "### 1. 텍스트 전처리"
      ]
    },
    {
      "cell_type": "markdown",
      "metadata": {},
      "source": [
        "- 텍스트 전처리 : 텍스트 분석을 진행하기 전에 분석 목적에 맞게 변형,가공하는 과정이다.\n",
        "- 적용 패키지 : 파이썬 내장 함수와 더불어 한글은 KoNLPy, 영어는 NLTK로 전처리한다."
      ]
    },
    {
      "cell_type": "markdown",
      "metadata": {},
      "source": [
        "- 전처리 절차 : 전처리 절차는 말뭉치(코퍼스)의 형태나 분석하고자 하는 목적에 따라 유연하게 적용한다.\n",
        "\n",
        "   <img src='images/Pre-processing.png' width='1000px'>"
      ]
    },
    {
      "cell_type": "markdown",
      "metadata": {},
      "source": [
        "### 2. 파이썬 내장 함수로 텍스트 처리"
      ]
    },
    {
      "cell_type": "markdown",
      "metadata": {},
      "source": [
        "##### ① 데이터 입력"
      ]
    },
    {
      "cell_type": "code",
      "execution_count": null,
      "metadata": {},
      "outputs": [],
      "source": [
        "sentence = 'When you have faults, do not fear to abandon them.'\n",
        "# 허물이 있다면, 버리기를 두려워 말라. -공자- "
      ]
    },
    {
      "cell_type": "markdown",
      "metadata": {},
      "source": [
        "##### ② 공백으로 분리"
      ]
    },
    {
      "cell_type": "code",
      "execution_count": null,
      "metadata": {},
      "outputs": [],
      "source": []
    },
    {
      "cell_type": "markdown",
      "metadata": {},
      "source": [
        "##### ③ do의 인덱스 번호 추출"
      ]
    },
    {
      "cell_type": "code",
      "execution_count": null,
      "metadata": {},
      "outputs": [],
      "source": []
    },
    {
      "cell_type": "markdown",
      "metadata": {},
      "source": [
        "##### ④ 우측 5번째부터 마지막까지의 문자열 추출"
      ]
    },
    {
      "cell_type": "code",
      "execution_count": null,
      "metadata": {},
      "outputs": [],
      "source": []
    },
    {
      "cell_type": "markdown",
      "metadata": {},
      "source": [
        "##### ⑤ 인덱스 1번째 문자열 추출"
      ]
    },
    {
      "cell_type": "code",
      "execution_count": null,
      "metadata": {},
      "outputs": [],
      "source": []
    },
    {
      "cell_type": "markdown",
      "metadata": {},
      "source": [
        "##### ⑥ 인덱스 2번째 문자열을 추출하여 거꾸로 표현"
      ]
    },
    {
      "cell_type": "code",
      "execution_count": null,
      "metadata": {},
      "outputs": [],
      "source": []
    },
    {
      "cell_type": "markdown",
      "metadata": {},
      "source": [
        "##### ⑦ 대소문자 변환하기"
      ]
    },
    {
      "cell_type": "code",
      "execution_count": null,
      "metadata": {},
      "outputs": [],
      "source": [
        "sentence = 'AbCdEfGh'"
      ]
    },
    {
      "cell_type": "code",
      "execution_count": null,
      "metadata": {},
      "outputs": [],
      "source": []
    },
    {
      "cell_type": "code",
      "execution_count": null,
      "metadata": {},
      "outputs": [],
      "source": []
    },
    {
      "cell_type": "markdown",
      "metadata": {},
      "source": [
        "##### ⑧ 원하는 문자열로 변경하기"
      ]
    },
    {
      "cell_type": "code",
      "execution_count": null,
      "metadata": {},
      "outputs": [],
      "source": [
        "sentence = 'I visited UK from US on 01-01-23'"
      ]
    },
    {
      "cell_type": "code",
      "execution_count": null,
      "metadata": {},
      "outputs": [],
      "source": []
    },
    {
      "cell_type": "markdown",
      "metadata": {},
      "source": [
        "### 3. 정규표현식으로 텍스트 처리"
      ]
    },
    {
      "cell_type": "markdown",
      "metadata": {},
      "source": [
        "#### 1) 정규표현식 개념"
      ]
    },
    {
      "cell_type": "markdown",
      "metadata": {},
      "source": [
        "- 정규표현식\n",
        "     - 정규 표현식은 문자열에서 특정 문자 조합을 찾기 위한 패턴이다.\n",
        "     - 특정 문자들을 편리하게 지정하고 추가, 삭제 가능하다.\n",
        "     - 데이터 전처리에서 정규 표현식을 많이 사용한다.\n",
        "     - 파이썬에서는 정규 표현식을 지원하는 `re` 패키지를 제공한다.\n",
        "#\n",
        "- 정규 표현식 문법  \n",
        "     \n",
        "     | 특수문자 | 설명 |\n",
        "     | - | - |\n",
        "     | `.` | 앞의 문자 1개를 표현 |\n",
        "     | `?` | 문자 한개를 표현하나 존재할 수도, 존재하지 않을 수도 있음(0개 또는 1개) |\n",
        "     | `*` | 앞의 문자가 0개 이상 |\n",
        "     | `+` | 앞의 문자가 최소 1개 이상 |\n",
        "     | `^` | 뒤의 문자로 문자열이 시작 |\n",
        "     | `\\$` | 앞의 문자로 문자열이 끝남 |\n",
        "     | `\\{n\\}` | `n`번만큼 반복 |\n",
        "     | `\\{n1, n2\\}` | `n1` 이상, `n2` 이하만큼 반복, n2를 지정하지 않으면 `n1` 이상만 반복 |\n",
        "     | `\\[ abc \\]` | 안에 문자들 중 한 개의 문자와 매치, a-z처럼 범위도 지정 가능 |\n",
        "     | `\\[ ^a \\]` | 해당 문자를 제외하고 매치 |\n",
        "     | `a\\|b` | `a` 또는 `b`를 나타냄 |\n",
        "#\n",
        "\n",
        "- 정규 표현식에 자주 사용하는 역슬래시(\\\\)를 이용한 문자 규칙\n",
        "\n",
        "     | 문자 | 설명 |\n",
        "     | - | - |\n",
        "     | `\\\\` | 역슬래시 자체를 의미 |\n",
        "     | `\\d` | 모든 숫자를 의미, [0-9]와 동일 |\n",
        "     | `\\D` | 숫자를 제외한 모든 문자를 의미, [^0-9]와 동일 |\n",
        "     | `\\s` | 공백을 의미, [ \\t\\n\\r\\f\\v]와 동일|\n",
        "     | `\\S` | 공백을 제외한 모든 문자를 의미, [^ \\t\\n\\r\\f\\v]와 동일 |\n",
        "     | `\\w` | 문자와 숫자를 의미, [a-zA-Z0-9]와 동일 |\n",
        "     | `\\W` | 문자와 숫자를 제외한 다른 문자를 의미, [^a-zA-Z0-9]와 동일 |"
      ]
    },
    {
      "cell_type": "markdown",
      "metadata": {},
      "source": [
        "#### 2) `re` 사용"
      ]
    },
    {
      "cell_type": "markdown",
      "metadata": {},
      "source": [
        "##### ① match : 문자열이 정규 표현식과 맞는지 검사한다."
      ]
    },
    {
      "cell_type": "code",
      "execution_count": null,
      "metadata": {},
      "outputs": [],
      "source": []
    },
    {
      "cell_type": "code",
      "execution_count": null,
      "metadata": {},
      "outputs": [],
      "source": []
    },
    {
      "cell_type": "markdown",
      "metadata": {},
      "source": [
        "##### ② compile : 정규 표현식을 컴파일한다."
      ]
    },
    {
      "cell_type": "markdown",
      "metadata": {},
      "source": [
        "- compile을 사용하면 여러 번 사용할 경우 일반 사용보다 더 빠른 속도를 보인다.\n",
        "- compile을 통해 정규 표현식을 사용할 경우 `re`가 아닌 컴파일한 객체 이름을 통해 사용해야 한다."
      ]
    },
    {
      "cell_type": "code",
      "execution_count": null,
      "metadata": {},
      "outputs": [],
      "source": []
    },
    {
      "cell_type": "markdown",
      "metadata": {},
      "source": [
        "##### ③ 일반 정규표현식과 `compile` 사용시 속도 비교"
      ]
    },
    {
      "cell_type": "code",
      "execution_count": null,
      "metadata": {},
      "outputs": [],
      "source": []
    },
    {
      "cell_type": "markdown",
      "metadata": {},
      "source": [
        "- 일반 소요 시간"
      ]
    },
    {
      "cell_type": "code",
      "execution_count": null,
      "metadata": {},
      "outputs": [],
      "source": []
    },
    {
      "cell_type": "markdown",
      "metadata": {},
      "source": [
        "- `compile` 사용시 소요 시간"
      ]
    },
    {
      "cell_type": "code",
      "execution_count": null,
      "metadata": {},
      "outputs": [],
      "source": []
    },
    {
      "cell_type": "markdown",
      "metadata": {},
      "source": [
        "##### ④ search : `match`와 다르게, `search`는 문자열의 전체를 검사한다."
      ]
    },
    {
      "cell_type": "code",
      "execution_count": null,
      "metadata": {},
      "outputs": [],
      "source": []
    },
    {
      "cell_type": "markdown",
      "metadata": {},
      "source": [
        "##### ⑤ sub : 정규 표현식과 일치하는 부분을 다른 문자열로 교체한다."
      ]
    },
    {
      "cell_type": "code",
      "execution_count": null,
      "metadata": {},
      "outputs": [],
      "source": []
    },
    {
      "cell_type": "code",
      "execution_count": null,
      "metadata": {},
      "outputs": [],
      "source": []
    },
    {
      "cell_type": "markdown",
      "metadata": {},
      "source": [
        "### 4. 토큰화(Tokenization)"
      ]
    },
    {
      "cell_type": "markdown",
      "metadata": {},
      "source": [
        "#### 1) 토큰화 이해"
      ]
    },
    {
      "cell_type": "markdown",
      "metadata": {},
      "source": [
        "##### ① 토큰화의 개념 및 처리 방법"
      ]
    },
    {
      "cell_type": "markdown",
      "metadata": {},
      "source": [
        "- 토큰화 : 말뭉치(corpus)에서 텍스트를 토큰(token)이라 불리는 의미있는 단위로 나누는 것을 토큰화라고 한다.(단어 또는 문장 단위로 토큰화를 진행)\n",
        "   - 말뭉치(corpus) : 특정한 목적을 가지고 수집한 텍스트 데이터이다.\n",
        "   - 토큰(token) : 더 이상 분해될 수 없는 최소한의 의미를 갖는 단위이다."
      ]
    },
    {
      "cell_type": "markdown",
      "metadata": {
        "id": "eqPZHQZPzFvc"
      },
      "source": [
        "- 특수문자에 대한 처리\n",
        "  - 단어에 일반적으로 사용되는 알파벳, 숫자와는 다르게 특수문자는 별도의 처리가 필요하다.            \n",
        "  - 일괄적으로 단어의 특수문자를 제거하는 방법도 있지만 특수문자가 단어에 특별한 의미를 가질 때 이를 학습에 반영시키지 못할 수도 있다.\n",
        "  - 특수문자에 대한 일괄적인 제거보다는 데이터의 특성을 파악하고, 처리를 하는 것이 중요하다."
      ]
    },
    {
      "cell_type": "markdown",
      "metadata": {
        "id": "FrZTwnlTyzYV"
      },
      "source": [
        "- 특정 단어에 대한 토큰 분리 방법\n",
        "  - 한 단어지만 토큰으로 분리할 때 판단되는 문자들로 이루어진 `we're, United Kingdom` 등의 단어는 어떻게 분리해야 할지 선택이 필요하다.   \n",
        "  - `we're`은 한 단어이나 분리해도 단어의 의미에 별 영향을 끼치진 않지만 `United Kingdom`은 두 단어가 모여 특정 의미를 가리켜 분리해선 안된다.\n",
        "  - 사용자가 단어의 특성을 고려해 토큰을 분리하는 것이 학습에 유리하다."
      ]
    },
    {
      "cell_type": "markdown",
      "metadata": {},
      "source": [
        "##### ② 한국어 토큰화의 특징"
      ]
    },
    {
      "cell_type": "markdown",
      "metadata": {},
      "source": [
        "- 한국어 처리의 어려움 : 한국어는 어간에 접사가 붙어 의미와 문법적 기능이 변화하는 ‘교착어’로 인공지능 모델링이 어렵다.\n",
        "\n",
        "   <img src='./images/korean.png' width='1000px'>"
      ]
    },
    {
      "cell_type": "markdown",
      "metadata": {},
      "source": [
        "- 한국어 처리를 위한 KoNLPy 패키지\n",
        "   - `KoNLPy`는 한글을  쉽고 간결하게 처리할 수 있도록 만들어진 오픈소스 패키지다.\n",
        "   - 참고 : https://konlpy.org/ko/latest/"
      ]
    },
    {
      "cell_type": "markdown",
      "metadata": {},
      "source": [
        "- 형태소 분석기 참고\n",
        "   - Hannanum: 한나눔. KAIST Semantic Web Research Center 개발, http://semanticweb.kaist.ac.kr/hannanum/\n",
        "   - Kkma: 꼬꼬마. 서울대학교 IDS(Intelligent Data Systems) 연구실 개발, http://kkma.snu.ac.kr/\n",
        "   - Komoran: 코모란. Shineware에서 개바발, https://github.com/shin285/KOMORAN\n",
        "   - Mecab: 메카브. 일본어용 형태소 분석기를 한국어를 사용할 수 있도록 수정, https://bitbucket.org/eunjeon/mecab-ko\n",
        "   - Open Korean Text: 오픈 소스 한국어 분석기. 과거 트위터 형태소 분석기, https://github.com/open-korean-text/open-korean-text"
      ]
    },
    {
      "cell_type": "markdown",
      "metadata": {},
      "source": [
        "#### 2) 환경설정"
      ]
    },
    {
      "cell_type": "markdown",
      "metadata": {
        "id": "jQy8dm_-Zg2D"
      },
      "source": [
        "##### ① KoNLPy 설치 : Konlpy가 JAVA로 구성되어 있기 때문에 JDK와 JPype가 설치되어 있어야 한다.\n",
        "   - 설치순서 : JDK 설치 -> JAVA_HOME 환경변수 설정 -> PC 재부팅 -> JPYPE1,konlpy 설치"
      ]
    },
    {
      "cell_type": "markdown",
      "metadata": {},
      "source": [
        "##### ② JDK 설치 : 다음 URL을 클릭하여 다운 및 설치 https://www.oracle.com/kr/java/technologies/downloads/#jdk19-windows\n",
        "\n",
        "   <img src='./images/jdk1.png' width='1000px'>"
      ]
    },
    {
      "cell_type": "markdown",
      "metadata": {},
      "source": [
        "##### ③ JAVA_HOME 환경변수 설정-1\n",
        "\n",
        "   <img src='./images/jdk2.png' width='1000px'>"
      ]
    },
    {
      "cell_type": "markdown",
      "metadata": {},
      "source": [
        "##### ④ JAVA_HOME 환경변수 설정-2\n",
        "\n",
        "   <img src='./images/jdk3.png' width='1000px'>\n"
      ]
    },
    {
      "cell_type": "markdown",
      "metadata": {
        "id": "U9_k9rA6v0KM"
      },
      "source": [
        "#### 2) 단어 토큰화(Word Tokenization)"
      ]
    },
    {
      "cell_type": "markdown",
      "metadata": {},
      "source": [
        "##### ① 데이터 입력"
      ]
    },
    {
      "cell_type": "code",
      "execution_count": null,
      "metadata": {
        "id": "isgXAhV7wEo7"
      },
      "outputs": [],
      "source": [
        "s = 'Believe in yourself.'"
      ]
    },
    {
      "cell_type": "markdown",
      "metadata": {
        "id": "t02uSgcSv6IQ"
      },
      "source": [
        "##### ② 공백을 기준으로 단어를 분리"
      ]
    },
    {
      "cell_type": "code",
      "execution_count": null,
      "metadata": {},
      "outputs": [],
      "source": []
    },
    {
      "cell_type": "markdown",
      "metadata": {
        "id": "x_PDCM7YwEi9"
      },
      "source": [
        "##### ③ 영어 토큰화"
      ]
    },
    {
      "cell_type": "markdown",
      "metadata": {},
      "source": [
        "   - 'nltk' 패키지의 `tokenize` 모듈을 사용해 손쉽게 구현 가능하다.\n",
        "   - 단어 토큰화는 `word_tokenize()` 함수를 사용해 구현 가능하다."
      ]
    },
    {
      "cell_type": "code",
      "execution_count": null,
      "metadata": {
        "id": "vXkXYwoywHAl"
      },
      "outputs": [],
      "source": []
    },
    {
      "cell_type": "markdown",
      "metadata": {},
      "source": [
        "- 토큰화"
      ]
    },
    {
      "cell_type": "code",
      "execution_count": null,
      "metadata": {},
      "outputs": [],
      "source": []
    },
    {
      "cell_type": "markdown",
      "metadata": {},
      "source": [
        "##### ④ 한국어 토큰화"
      ]
    },
    {
      "cell_type": "markdown",
      "metadata": {},
      "source": [
        "- 한국어는 공백으로 단어를 분리해도 조사, 접속사 등이 남아 분석에 어려움이 있다.\n",
        "- 이를 해결해주는 한국어 토큰화는 조사, 접속사를 분리해주거나 제거한다."
      ]
    },
    {
      "cell_type": "markdown",
      "metadata": {
        "id": "ECKpbnSaZnXd"
      },
      "source": [
        "- 형태소 분석(Morphological Analysis) : 더 이상 분해될 수 없는 최소한의 의미를 갖는 단위인 형태소를 추출하는 것이다.\n",
        "   - 형태소에는 어간(stem)과 접사(affix)가 있다.\n",
        "   - 어간 : 단어의 의미를 담고 있는 단어의 핵심 부분이다.\n",
        "   - 접사 : 단어에 추가적인 의미를 주는 부분이다."
      ]
    },
    {
      "cell_type": "markdown",
      "metadata": {},
      "source": [
        "- 데이터 입력"
      ]
    },
    {
      "cell_type": "code",
      "execution_count": null,
      "metadata": {
        "id": "3gDC2NOvZnXe"
      },
      "outputs": [],
      "source": [
        "s = '자신감 있는 표정을 지으면 자신감이 생긴다.'"
      ]
    },
    {
      "cell_type": "markdown",
      "metadata": {},
      "source": [
        "-  okt, kkma 객체 생성"
      ]
    },
    {
      "cell_type": "code",
      "execution_count": null,
      "metadata": {
        "id": "nqCnRA7-zKwp"
      },
      "outputs": [],
      "source": []
    },
    {
      "cell_type": "code",
      "execution_count": null,
      "metadata": {
        "id": "d6UXcU-YoAFm"
      },
      "outputs": [],
      "source": []
    },
    {
      "cell_type": "markdown",
      "metadata": {
        "id": "y18tRWoOZnXe"
      },
      "source": [
        "-  토큰화"
      ]
    },
    {
      "cell_type": "code",
      "execution_count": null,
      "metadata": {
        "id": "p5A8w6pCZnXe"
      },
      "outputs": [],
      "source": []
    },
    {
      "cell_type": "markdown",
      "metadata": {},
      "source": [
        "-  품사 태깅(Part-of-Speech Tagging)"
      ]
    },
    {
      "cell_type": "code",
      "execution_count": null,
      "metadata": {},
      "outputs": [],
      "source": []
    },
    {
      "cell_type": "markdown",
      "metadata": {
        "id": "fW_-oiQTZnXf"
      },
      "source": [
        "-  명사 추출(조사, 접속사 등을 제거)"
      ]
    },
    {
      "cell_type": "code",
      "execution_count": null,
      "metadata": {
        "id": "IRSbGlYwZnXf"
      },
      "outputs": [],
      "source": []
    },
    {
      "cell_type": "markdown",
      "metadata": {
        "id": "VcmIjFyRwJpW"
      },
      "source": [
        "#### 3) 문장 토큰화(Setence Tokenization)"
      ]
    },
    {
      "cell_type": "markdown",
      "metadata": {},
      "source": [
        "##### ① 데이터 입력"
      ]
    },
    {
      "cell_type": "code",
      "execution_count": null,
      "metadata": {
        "id": "MkJ60tlTv7Ux"
      },
      "outputs": [],
      "source": [
        "s = \"Life is like a box of chocolates.\\nYou never know what you're gonna get.\"\n",
        "# 인생은 마치 초콜릿 상자와도 같다. 당신이 무엇을 얻게 될지 모르기 때문이다."
      ]
    },
    {
      "cell_type": "markdown",
      "metadata": {
        "id": "7Jkvs6Jov7QF"
      },
      "source": [
        "##### ② 줄바꿈 문자('\\n')를 기준으로 문장을 분리"
      ]
    },
    {
      "cell_type": "code",
      "execution_count": null,
      "metadata": {},
      "outputs": [],
      "source": []
    },
    {
      "cell_type": "markdown",
      "metadata": {
        "id": "nDSxHUHTwVzG"
      },
      "source": [
        "##### ③ nltk 이용"
      ]
    },
    {
      "cell_type": "code",
      "execution_count": null,
      "metadata": {
        "id": "0oR8iHWiwV6f"
      },
      "outputs": [],
      "source": []
    },
    {
      "cell_type": "code",
      "execution_count": null,
      "metadata": {},
      "outputs": [],
      "source": []
    },
    {
      "cell_type": "markdown",
      "metadata": {
        "id": "qYJCYXP65yVk"
      },
      "source": [
        "##### ④ konlpy 형태소 분석기 중 kkma만 문장 분리 가능"
      ]
    },
    {
      "cell_type": "code",
      "execution_count": null,
      "metadata": {
        "id": "2wMbs7BB1X0g"
      },
      "outputs": [],
      "source": [
        "text = '사람들은 매우 개방적이며 자신이 말하는 모든 것에 동의하는 받아들입니다, 다른 사람들의?'"
      ]
    },
    {
      "cell_type": "code",
      "execution_count": null,
      "metadata": {},
      "outputs": [],
      "source": []
    },
    {
      "cell_type": "markdown",
      "metadata": {
        "id": "hVPmqCnV2Ydt"
      },
      "source": [
        "#### 4) 정규 표현식을 이용한 토큰화"
      ]
    },
    {
      "cell_type": "markdown",
      "metadata": {
        "id": "_hkxXlZb2j0O"
      },
      "source": [
        "- 토큰화 기능을 직접 구현할 수도 있지만 정규 표현식을 이용해 간단하게 구현할 수도 있다.\n",
        "- `nltk` 패키지는 정규 표현식을 사용하는 토큰화 도구인 `RegexpTokenizer`를 제공한다."
      ]
    },
    {
      "cell_type": "markdown",
      "metadata": {},
      "source": [
        "참고 : https://sooftware.io/regex/\n",
        "\n",
        " - [ ] : 문자클래스 [ ]는 [ ] 사이의 문자들과 매치"
      ]
    },
    {
      "cell_type": "markdown",
      "metadata": {},
      "source": [
        " - 하이픈(-), 캐럿(^) : 하이픈(-)은 두 문자 사이의 범위(from - to)를 의미, 캐럿(^)은 반대\n",
        "   - [a-zA-Z]: 알파벳 모두 매치\n",
        "   - [0-9]: 숫자 매치\n",
        "   - [^0-9]: 숫자가 아닌 문자만 매치\n",
        "   - 캐럿(^)은 []안에서는 부정의 의미로 사용, []가 없으면 문자열의 처음을 뜻함(끝은 $로 표시)"
      ]
    },
    {
      "cell_type": "markdown",
      "metadata": {},
      "source": [
        "- \\역슬래쉬 : [0-9]또는 [a-zA-Z]와 같은 정규표현식은 \\역슬래쉬를 이용해 간단하게 표현\n",
        "   - \\d - 숫자와 매치, [0-9]와 동일한 표현식이다.\n",
        "   - \\D - 숫자가 아닌 것과 매치, [^0-9]와 동일한 표현식이다.\n",
        "   - \\s - whitespace 문자와 매치, [ \\t\\n\\r\\f\\v]와 동일한 표현식이다. 맨 앞의 빈 칸은 공백문자(space)를 의미한다.\n",
        "   - \\S - whitespace 문자가 아닌 것과 매치, [^\\t\\n\\r\\f\\v]와 동일한 표현식이다.\n",
        "   - \\w - 문자+숫자(alphanumeric)와 매치, [a-zA-Z0-9_]와 동일한 표현식이다.\n",
        "   - \\W - 문자+숫자(alphanumeric)가 아닌 문자와 매치, [^a-zA-Z0-9_]와 동일한 표현식이다.\n",
        "   - \\s - 스페이스(공백문자), 탭과 매치, [\\t\\n\\f\\r]과 동일한 표현식이다.\n",
        "   - \\S - 스페이스 외 문자와 매치, [^\\t\\n\\f\\r]과 동일한 표현식이다.\n",
        "   - 대문자로 사용된 것은 소문자의 반대임을 추측할 수 있습니다."
      ]
    },
    {
      "cell_type": "markdown",
      "metadata": {},
      "source": [
        "- ‘Dot(.)’ : 줄바꿈 문자인 \\n을 제외한 모든 문자와 매치"
      ]
    },
    {
      "cell_type": "markdown",
      "metadata": {},
      "source": [
        "##### ① 영어 데이터 입력"
      ]
    },
    {
      "cell_type": "code",
      "execution_count": null,
      "metadata": {
        "id": "9KOEXR7R2cyV"
      },
      "outputs": [],
      "source": [
        "s = 'Whrer there\\'s a win. there\\'s a way'"
      ]
    },
    {
      "cell_type": "markdown",
      "metadata": {},
      "source": [
        "##### ② 단어 토큰화"
      ]
    },
    {
      "cell_type": "code",
      "execution_count": null,
      "metadata": {},
      "outputs": [],
      "source": []
    },
    {
      "cell_type": "code",
      "execution_count": null,
      "metadata": {},
      "outputs": [],
      "source": []
    },
    {
      "cell_type": "markdown",
      "metadata": {},
      "source": [
        "##### ③ 공백 기준으로 토큰화"
      ]
    },
    {
      "cell_type": "code",
      "execution_count": null,
      "metadata": {
        "id": "Lhdy85nr2fTt"
      },
      "outputs": [],
      "source": []
    },
    {
      "cell_type": "markdown",
      "metadata": {},
      "source": [
        "##### ④ 한국어 데이터 입력"
      ]
    },
    {
      "cell_type": "code",
      "execution_count": null,
      "metadata": {
        "id": "eHyaqS4IZvAz"
      },
      "outputs": [],
      "source": [
        "s = '안녕하세요 ㅋㅋ 저는 자연어 처리(Natural Language Processing)를ㄹ!! 배우고 있습니다'"
      ]
    },
    {
      "cell_type": "markdown",
      "metadata": {},
      "source": [
        "##### ⑤ 모든 한국어만 토큰화(영어 제외)"
      ]
    },
    {
      "cell_type": "code",
      "execution_count": null,
      "metadata": {},
      "outputs": [],
      "source": []
    },
    {
      "cell_type": "markdown",
      "metadata": {},
      "source": [
        "##### ⑥ 모든 데이터를 허용한 토큰화"
      ]
    },
    {
      "cell_type": "code",
      "execution_count": null,
      "metadata": {
        "id": "DmbeXTt5ZvAz"
      },
      "outputs": [],
      "source": []
    },
    {
      "cell_type": "markdown",
      "metadata": {
        "id": "wOZj2hkzi9Ki"
      },
      "source": [
        "#### 5) TextBlob을 이용한 토큰화"
      ]
    },
    {
      "cell_type": "code",
      "execution_count": null,
      "metadata": {
        "id": "oIDyF_gLi84n"
      },
      "outputs": [],
      "source": []
    },
    {
      "cell_type": "code",
      "execution_count": null,
      "metadata": {},
      "outputs": [],
      "source": []
    },
    {
      "cell_type": "code",
      "execution_count": null,
      "metadata": {},
      "outputs": [],
      "source": []
    },
    {
      "cell_type": "code",
      "execution_count": null,
      "metadata": {
        "id": "XCe4jRAxQFu5"
      },
      "outputs": [],
      "source": [
        "kor = '성공의 비결은 한 가지. 잘할 수 있는 일에 광적으로 집중하는 것이다.'"
      ]
    },
    {
      "cell_type": "code",
      "execution_count": null,
      "metadata": {},
      "outputs": [],
      "source": []
    },
    {
      "cell_type": "markdown",
      "metadata": {
        "id": "1iRYvPrOZbGQ"
      },
      "source": [
        "#### 6) PoS(Parts-of-Speech) 태깅 "
      ]
    },
    {
      "cell_type": "markdown",
      "metadata": {
        "id": "2xRajzx4_5ng"
      },
      "source": [
        "* PoS는 품사를 의미하며, PoS 태깅은 문장 내에서 단어에 해당하는 각 품사를 태깅하는 것이다."
      ]
    },
    {
      "cell_type": "code",
      "execution_count": null,
      "metadata": {
        "id": "OcVS13f8ATMT"
      },
      "outputs": [],
      "source": [
        "s = 'Think like man of action and like man of thought.'"
      ]
    },
    {
      "cell_type": "code",
      "execution_count": null,
      "metadata": {},
      "outputs": [],
      "source": []
    },
    {
      "cell_type": "code",
      "execution_count": null,
      "metadata": {
        "id": "YvoGzfP2AjqJ"
      },
      "outputs": [],
      "source": []
    },
    {
      "cell_type": "markdown",
      "metadata": {
        "id": "AWUanibELmmi"
      },
      "source": [
        "- PoS 태그 리스트"
      ]
    },
    {
      "cell_type": "markdown",
      "metadata": {
        "id": "8RGD-0sVAwaV"
      },
      "source": [
        "| Number | Tag | Description | 설명 |\n",
        "| -- | -- | -- | -- |\n",
        "| 1 | `CC` | Coordinating conjunction |\n",
        "| 2 | `CD` | Cardinal number |\n",
        "| 3 | `DT` | Determiner | 한정사\n",
        "| 4 | `EX` | Existential there |\n",
        "| 5 | `FW` | Foreign word | 외래어 |\n",
        "| 6 | `IN` | Preposition or subordinating conjunction | 전치사 또는 종속 접속사 |\n",
        "| 7 | `JJ` | Adjective | 형용사 |\n",
        "| 8 | `JJR` | Adjective, comparative | 헝용사, 비교급 |\n",
        "| 9 | `JJS` | Adjective, superlative | 형용사, 최상급 |\n",
        "| 10 | `LS` | List item marker |\n",
        "| 11 | `MD` | Modal |\n",
        "| 12 | `NN` | Noun, singular or mass | 명사, 단수형 |\n",
        "| 13 | `NNS` | Noun, plural | 명사, 복수형 |\n",
        "| 14 | `NNP` | Proper noun, singular | 고유명사, 단수형 |\n",
        "| 15 | `NNPS` | Proper noun, plural | 고유명사, 복수형 |\n",
        "| 16 | `PDT` | Predeterminer | 전치한정사 |\n",
        "| 17 | `POS` | Possessive ending | 소유형용사 |\n",
        "| 18 | `PRP` | Personal pronoun | 인칭 대명사 |\n",
        "| 19 | `PRP$` | Possessive pronoun | 소유 대명사 |\n",
        "| 20 | `RB` | Adverb | 부사 |\n",
        "| 21 | `RBR` | Adverb, comparative | 부사, 비교급 |\n",
        "| 22 | `RBS` | Adverb, superlative | 부사, 최상급 |\n",
        "| 23 | `RP` | Particle |\n",
        "| 24 | `SYM` | Symbol | 기호\n",
        "| 25 | `TO` | to |\n",
        "| 26 | `UH` | Interjection | 감탄사 |\n",
        "| 27 | `VB` | Verb, base form | 동사, 원형 |\n",
        "| 28 | `VBD` | Verb, past tense | 동사, 과거형 |\n",
        "| 29 | `VBG` | Verb, gerund or present participle | 동사, 현재분사 |\n",
        "| 30 | `VBN` | Verb, past participle | 동사, 과거분사 |\n",
        "| 31 | `VBP` | Verb, non-3rd person singular present | 동사, 비3인칭 단수 |\n",
        "| 32 | `VBZ` | Verb, 3rd person singular present | 동사, 3인칭 단수 |\n",
        "| 33 | `WDT` | Wh-determiner |\n",
        "| 34 | `WP` | Wh-pronoun |\n",
        "| 35 | `WP$` | Possessive wh-pronoun |\n",
        "| 36 | `WRB` | Wh-adverb |\n"
      ]
    },
    {
      "cell_type": "markdown",
      "metadata": {
        "id": "pQh3deRog1It"
      },
      "source": [
        "#### 7) n-gram 추출"
      ]
    },
    {
      "cell_type": "markdown",
      "metadata": {},
      "source": [
        "- n-gram : 앞 뒤를 다 파악해서 n개만큼 토근을 묶어내는 방법이다.\n",
        "- n=1일 때는 `unigram`, n=2일 때는 `bigram`, n=3일 때는 `trigram`으로 불린다.\n",
        "- 'nltk' 패키지는 편하게 n-gram을 생성할 수 있는 함수를 제공한다.\n",
        "- 많이 사용되는 'bigrams'의 경우에는 별도의 함수를 제공하니 해당 내용을 참조하여 n-gram을 생성한다.\n",
        "- window size가 2보다 큰 경우 ngram 함수에 window size를 인자로 넣어 사용 가능하다."
      ]
    },
    {
      "cell_type": "markdown",
      "metadata": {},
      "source": [
        "##### ① 데이터 입력"
      ]
    },
    {
      "cell_type": "code",
      "execution_count": null,
      "metadata": {},
      "outputs": [],
      "source": [
        "s = 'There is no royal road to learning'"
      ]
    },
    {
      "cell_type": "markdown",
      "metadata": {},
      "source": [
        "##### ② bigram"
      ]
    },
    {
      "cell_type": "code",
      "execution_count": null,
      "metadata": {
        "id": "2Jj0RiGng7bV"
      },
      "outputs": [],
      "source": []
    },
    {
      "cell_type": "code",
      "execution_count": null,
      "metadata": {},
      "outputs": [],
      "source": []
    },
    {
      "cell_type": "markdown",
      "metadata": {},
      "source": [
        "##### ③ trigram"
      ]
    },
    {
      "cell_type": "code",
      "execution_count": null,
      "metadata": {
        "id": "-sEZ6IfGh2q2"
      },
      "outputs": [],
      "source": []
    },
    {
      "cell_type": "markdown",
      "metadata": {},
      "source": [
        "##### ④ TextBlob 활용"
      ]
    },
    {
      "cell_type": "code",
      "execution_count": null,
      "metadata": {},
      "outputs": [],
      "source": []
    },
    {
      "cell_type": "markdown",
      "metadata": {},
      "source": [
        "- bigram"
      ]
    },
    {
      "cell_type": "code",
      "execution_count": null,
      "metadata": {},
      "outputs": [],
      "source": []
    },
    {
      "cell_type": "markdown",
      "metadata": {},
      "source": [
        "- trigram"
      ]
    },
    {
      "cell_type": "code",
      "execution_count": null,
      "metadata": {
        "id": "2hkjduP0idli"
      },
      "outputs": [],
      "source": []
    },
    {
      "cell_type": "markdown",
      "metadata": {
        "id": "F5Vvqfynlf9Z"
      },
      "source": [
        "#### 8) 기타 토크나이저\n",
        "\n",
        "* `WhiteSpaceTokenizer`: 공백을 기준으로 토큰화\n",
        "* `WordPunktTokenizer`: 텍스트를 알파벳 문자, 숫자, 알파벳 이외의 문자 리스트로 토큰화\n",
        "* `MWETokenizer`: MWE는 Multi-Word Expression의 약자로 'republic of korea'와 같이 여러 단어로 이뤄진 특정 그룹을 한 개체로 취급\n",
        "* `TweetTokenizer`: 트위터에서 사용되는 문장의 토큰화를 위해서 만들어졌으며, 문장 속 감성의 표현과 감정을 다룸"
      ]
    },
    {
      "cell_type": "markdown",
      "metadata": {
        "id": "fmDuyhjxugFN"
      },
      "source": [
        "### 5. 정제(Cleaning) 및 정규화(Normalizaion)"
      ]
    },
    {
      "cell_type": "markdown",
      "metadata": {},
      "source": [
        "- 정제 : 데이터에서 손상되거나 부정확한 부분, 관련이 없는 부분을 식별한 뒤에 수정 및 삭제, 대체 등을 하는 과정이다.\n",
        "- 정규화 : 데이터에서 표현방법이 다른 단어들을 통합시켜 같은 단어로 통합하는 과정이다.\n",
        "- 토큰화 작업 전·후 실시하나 한글에서는 명사 만 추출하여 사용할 경우 어느 정도 정제화가 된다."
      ]
    },
    {
      "cell_type": "markdown",
      "metadata": {},
      "source": [
        "- 정제 및 정규화 방법\n",
        "\n",
        "   <img src='./images/re.png' width='1000px'>"
      ]
    },
    {
      "cell_type": "markdown",
      "metadata": {},
      "source": [
        "#### 1) 불용어(Stopword) 제거"
      ]
    },
    {
      "cell_type": "markdown",
      "metadata": {
        "id": "Fj2rvWzwuy7o"
      },
      "source": [
        "- 불용어(stop words): 문장 형성에 중요한 구문록적 가치를 지니고 있지만 무시할 수 있거나 최소한의 의미적 가치를 지닌 단어이다.\n",
        "- 주로 접속사, 관사, 부사, 대명사, 일반동사 등 자연어에 포함되어 있는 정보를 담지 않는 단어들이 불용어에 속한다.\n",
        "- 영어의 전치사(on, in), 한국어의 조사(을, 를) 등은 분석에 필요하지 않은 경우가 많다.\n",
        "- 길이가 짧은 단어, 등장 빈도 수가 적은 단어들도 분석에 큰 영향을 주지 않는다.\n",
        "- 일반적으로 사용되는 도구들은 해당 단어들을 제거해주지만 완벽하게 제거되지는 않는다.\n",
        "- 사용자가 불용어 사전을 만들어 해당 단어들을 제거하는 것이 좋다.\n",
        "- 도구들이 걸러주지 않는 전치사, 조사 등을 불용어 사전을 만들어 불필요한 단어들을 제거한다."
      ]
    },
    {
      "cell_type": "markdown",
      "metadata": {},
      "source": [
        "##### ① 단어를 분리하여 불용어로 설정"
      ]
    },
    {
      "cell_type": "code",
      "execution_count": null,
      "metadata": {
        "id": "hjFp9u9quy_t"
      },
      "outputs": [],
      "source": [
        "stop_words = 'on in the'"
      ]
    },
    {
      "cell_type": "code",
      "execution_count": null,
      "metadata": {},
      "outputs": [],
      "source": []
    },
    {
      "cell_type": "markdown",
      "metadata": {},
      "source": [
        "##### ② 설정된 불용어를 제거"
      ]
    },
    {
      "cell_type": "code",
      "execution_count": null,
      "metadata": {
        "id": "9nKwwtR6uzCr"
      },
      "outputs": [],
      "source": [
        "sentence = 'singer on the stage'"
      ]
    },
    {
      "cell_type": "code",
      "execution_count": null,
      "metadata": {},
      "outputs": [],
      "source": []
    },
    {
      "cell_type": "code",
      "execution_count": null,
      "metadata": {},
      "outputs": [],
      "source": []
    },
    {
      "cell_type": "markdown",
      "metadata": {
        "id": "ykTS2yeMMEXF"
      },
      "source": [
        "##### ③ `nltk` 패키지의 불용어 리스트 사용"
      ]
    },
    {
      "cell_type": "code",
      "execution_count": null,
      "metadata": {
        "id": "XlDpO3e-MHwa"
      },
      "outputs": [],
      "source": []
    },
    {
      "cell_type": "markdown",
      "metadata": {},
      "source": [
        "##### ④ 불용어 리스트 확인"
      ]
    },
    {
      "cell_type": "code",
      "execution_count": null,
      "metadata": {
        "id": "1jC408N2MRR0"
      },
      "outputs": [],
      "source": []
    },
    {
      "cell_type": "markdown",
      "metadata": {},
      "source": [
        "##### ⑤ 토큰화"
      ]
    },
    {
      "cell_type": "code",
      "execution_count": null,
      "metadata": {
        "id": "zShCTozjMYWG"
      },
      "outputs": [],
      "source": [
        "s = 'If you do not walk today. you will have to run tomorrow'"
      ]
    },
    {
      "cell_type": "code",
      "execution_count": null,
      "metadata": {},
      "outputs": [],
      "source": []
    },
    {
      "cell_type": "markdown",
      "metadata": {},
      "source": [
        "##### ⑥ 불용어 제거"
      ]
    },
    {
      "cell_type": "code",
      "execution_count": null,
      "metadata": {
        "id": "qd_gC78EOPdv"
      },
      "outputs": [],
      "source": []
    },
    {
      "cell_type": "markdown",
      "metadata": {
        "id": "LXO6E3E--gQy"
      },
      "source": [
        "#### 2) 철자 교정(Spelling Correction)"
      ]
    },
    {
      "cell_type": "markdown",
      "metadata": {
        "id": "AM6lTU2w-q7A"
      },
      "source": [
        "- 텍스트에 오탈자가 존재하는 경우가 있다.\n",
        "- 예를 들어, 단어 `apple`을 `aplpe`과 같이 철자 순서가 바뀌거나 `spple` 같이 철자가 틀릴 수 있다.\n",
        "- 사람이 적절한 추정을 통해 이해하는데는 문제가 없지만, 컴퓨터는 이러한 단어를 그대로 받아들여 처리가 필요하다.\n",
        "- 철자 교정 알고리즘은 이미 개발되어 워드 프로세서나 다양한 서비스에서 많이 적용된다."
      ]
    },
    {
      "cell_type": "markdown",
      "metadata": {},
      "source": [
        "##### ① autocorrect 패키지를 활용한 철자 교정"
      ]
    },
    {
      "cell_type": "code",
      "execution_count": null,
      "metadata": {
        "id": "m3hUcYaYRwVP"
      },
      "outputs": [],
      "source": []
    },
    {
      "cell_type": "code",
      "execution_count": null,
      "metadata": {},
      "outputs": [],
      "source": []
    },
    {
      "cell_type": "markdown",
      "metadata": {},
      "source": [
        "##### ② 단어들을 조합하기"
      ]
    },
    {
      "cell_type": "code",
      "execution_count": null,
      "metadata": {
        "id": "4H4TaYE7REcI"
      },
      "outputs": [],
      "source": [
        "s = 'Earlly biird carchess the womm.'"
      ]
    },
    {
      "cell_type": "code",
      "execution_count": null,
      "metadata": {},
      "outputs": [],
      "source": []
    },
    {
      "cell_type": "code",
      "execution_count": null,
      "metadata": {},
      "outputs": [],
      "source": []
    },
    {
      "cell_type": "markdown",
      "metadata": {
        "id": "H4_svyI2myE3"
      },
      "source": [
        "#### 3) 단수화(Singularize)와 복수화(Pluralize)"
      ]
    },
    {
      "cell_type": "markdown",
      "metadata": {},
      "source": [
        "##### ① 단수화"
      ]
    },
    {
      "cell_type": "code",
      "execution_count": null,
      "metadata": {
        "id": "3tDE8Aeumxml"
      },
      "outputs": [],
      "source": [
        "words = 'apples bananas oranges'"
      ]
    },
    {
      "cell_type": "code",
      "execution_count": null,
      "metadata": {},
      "outputs": [],
      "source": []
    },
    {
      "cell_type": "markdown",
      "metadata": {},
      "source": [
        "##### ② 복수화"
      ]
    },
    {
      "cell_type": "code",
      "execution_count": null,
      "metadata": {
        "id": "WLqLAg6Snfi8"
      },
      "outputs": [],
      "source": [
        "words = 'car traon airplane'"
      ]
    },
    {
      "cell_type": "code",
      "execution_count": null,
      "metadata": {},
      "outputs": [],
      "source": []
    },
    {
      "cell_type": "markdown",
      "metadata": {
        "id": "9-zauW83XwJ8"
      },
      "source": [
        "### 6. 표제어(Lemmatization) 추출"
      ]
    },
    {
      "cell_type": "markdown",
      "metadata": {},
      "source": [
        "- 표제어(Lemma) : `기본 사전형 단어`의 의미를 가진다.\n",
        "- 표제어 추출 : 정확하게 의도된 품사와 문장에 있는 단어의 의미를 식별하는 과정이다.\n",
        "- 표제어 추출은 단어들이 다른 형태를 가지더라도, 그 뿌리 단어를 찾아가서 단어의 개수를 줄일 수 있는지 판단한다."
      ]
    },
    {
      "cell_type": "code",
      "execution_count": null,
      "metadata": {
        "id": "FTHh2W06TlPm"
      },
      "outputs": [],
      "source": []
    },
    {
      "cell_type": "code",
      "execution_count": null,
      "metadata": {
        "id": "LF_jyPwaTzV5"
      },
      "outputs": [],
      "source": []
    },
    {
      "cell_type": "code",
      "execution_count": null,
      "metadata": {
        "id": "WrFilM4jWF9p"
      },
      "outputs": [],
      "source": []
    },
    {
      "cell_type": "code",
      "execution_count": null,
      "metadata": {
        "id": "MoKJNaJ8WT2x"
      },
      "outputs": [],
      "source": []
    },
    {
      "cell_type": "code",
      "execution_count": null,
      "metadata": {},
      "outputs": [],
      "source": []
    },
    {
      "cell_type": "markdown",
      "metadata": {
        "id": "Q-9i7ubNX0mD"
      },
      "source": [
        "### 7. 어간(Stemming) 추출"
      ]
    },
    {
      "cell_type": "markdown",
      "metadata": {},
      "source": [
        "   - 형태소에는 어간(stem)과 접사(affix)가 있다.\n",
        "   - 어간 : 단어의 의미를 담고 있는 단어의 핵심 부분이다.\n",
        "   - 접사 : 단어에 추가적인 의미를 주는 부분이다."
      ]
    },
    {
      "cell_type": "code",
      "execution_count": null,
      "metadata": {
        "id": "3_28SNykTEbf"
      },
      "outputs": [],
      "source": []
    },
    {
      "cell_type": "code",
      "execution_count": null,
      "metadata": {
        "id": "LCwnOPFNTP2v"
      },
      "outputs": [],
      "source": []
    },
    {
      "cell_type": "code",
      "execution_count": null,
      "metadata": {
        "id": "O6O5VoWcTQuO"
      },
      "outputs": [],
      "source": []
    },
    {
      "cell_type": "code",
      "execution_count": null,
      "metadata": {
        "id": "aHvL3FirTUQO"
      },
      "outputs": [],
      "source": []
    },
    {
      "cell_type": "code",
      "execution_count": null,
      "metadata": {
        "id": "4B7VXlfMTiAj"
      },
      "outputs": [],
      "source": []
    },
    {
      "cell_type": "markdown",
      "metadata": {
        "id": "YauGaSZHWg3R"
      },
      "source": [
        "### 8. 개체명 인식(Named Entity Recognition)"
      ]
    },
    {
      "cell_type": "markdown",
      "metadata": {},
      "source": [
        "- 개체명 인식 : 이름을 가진 개체(named entity)를 인식하는 것이다.\n",
        "- 어떤 이름을 의미하는 단어를 보고, 그 단어가 어떤 유형인지 인식하는 것이다."
      ]
    },
    {
      "cell_type": "markdown",
      "metadata": {},
      "source": [
        "##### ① 데이터 입력"
      ]
    },
    {
      "cell_type": "code",
      "execution_count": null,
      "metadata": {
        "id": "WqWjHuthXWp4"
      },
      "outputs": [],
      "source": [
        "s = \"James is working at Disney in London\""
      ]
    },
    {
      "cell_type": "markdown",
      "metadata": {},
      "source": [
        "##### ② corpus 다운로드"
      ]
    },
    {
      "cell_type": "code",
      "execution_count": null,
      "metadata": {
        "id": "t5tcQw9FW8fi"
      },
      "outputs": [],
      "source": []
    },
    {
      "cell_type": "markdown",
      "metadata": {},
      "source": [
        "##### ③ 품사 태깅 토큰화"
      ]
    },
    {
      "cell_type": "code",
      "execution_count": null,
      "metadata": {
        "id": "NnnBqd-YXkwa"
      },
      "outputs": [],
      "source": []
    },
    {
      "cell_type": "markdown",
      "metadata": {},
      "source": [
        "##### ④ 개체명 인식"
      ]
    },
    {
      "cell_type": "code",
      "execution_count": null,
      "metadata": {
        "id": "kjnWKrpPYWax"
      },
      "outputs": [],
      "source": []
    }
  ],
  "metadata": {
    "colab": {
      "provenance": []
    },
    "kernelspec": {
      "display_name": "Python 3.8.10 64-bit",
      "language": "python",
      "name": "python3"
    },
    "language_info": {
      "codemirror_mode": {
        "name": "ipython",
        "version": 3
      },
      "file_extension": ".py",
      "mimetype": "text/x-python",
      "name": "python",
      "nbconvert_exporter": "python",
      "pygments_lexer": "ipython3",
      "version": "3.8.10"
    },
    "vscode": {
      "interpreter": {
        "hash": "e2782e0ab7cab974e8fb2dfc8cec048a29dc3b50e54743df0c4a34ac41b2be7e"
      }
    }
  },
  "nbformat": 4,
  "nbformat_minor": 0
}
